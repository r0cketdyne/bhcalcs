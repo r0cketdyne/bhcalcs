{
 "cells": [
  {
   "cell_type": "code",
   "execution_count": 2,
   "metadata": {},
   "outputs": [],
   "source": [
    "import numpy as np\n",
    "from scipy.optimize import linprog\n",
    "from functools import reduce\n",
    "from itertools import product, permutations\n",
    "from scipy.special import comb"
   ]
  },
  {
   "cell_type": "code",
   "execution_count": 5,
   "metadata": {},
   "outputs": [],
   "source": [
    "## single-qutrit permutation matrices\n",
    "P = {'P0': np.array([[1,0,0],\n",
    "                                         [0,1,0],\n",
    "                                         [0,0,1]]),\n",
    "                         'P1': np.array([[1,0,0],\n",
    "                                         [0,0,1],\n",
    "                                         [0,1,0]]),\n",
    "                         'P2': np.array([[0,1,0],\n",
    "                                         [1,0,0],\n",
    "                                         [0,0,1]]),\n",
    "                         'P3': np.array([[0,1,0],\n",
    "                                         [0,0,1],\n",
    "                                         [1,0,0]]),\n",
    "                         'P4': np.array([[0,0,1],\n",
    "                                         [1,0,0],\n",
    "                                         [0,1,0]]),\n",
    "                         'P5': np.array([[0,0,1],\n",
    "                                         [0,1,0],\n",
    "                                         [1,0,0]]),\n",
    "                        }\n",
    "\n",
    "n_permutations = 6"
   ]
  },
  {
   "cell_type": "code",
   "execution_count": 7,
   "metadata": {},
   "outputs": [],
   "source": [
    "Hamiltonian = np.diag([0,0,0,0,11,21,0,12,22])"
   ]
  },
  {
   "cell_type": "code",
   "execution_count": null,
   "metadata": {},
   "outputs": [],
   "source": []
  },
  {
   "cell_type": "code",
   "execution_count": 344,
   "metadata": {},
   "outputs": [],
   "source": [
    "p_q2 = 4\n",
    "p_q1 = 5\n",
    "\n",
    "pmat = np.kron(P['P{}'.format(p_q1)], P['P{}'.format(p_q2)])\n",
    "\n",
    "H = reduce(np.dot, [pmat, Hamiltonian, pmat.T])"
   ]
  },
  {
   "cell_type": "code",
   "execution_count": 346,
   "metadata": {},
   "outputs": [
    {
     "data": {
      "text/plain": [
       "array([[0, 0, 1],\n",
       "       [0, 1, 0],\n",
       "       [1, 0, 0]])"
      ]
     },
     "execution_count": 346,
     "metadata": {},
     "output_type": "execute_result"
    }
   ],
   "source": [
    "P['P5']"
   ]
  },
  {
   "cell_type": "code",
   "execution_count": 345,
   "metadata": {},
   "outputs": [
    {
     "name": "stdout",
     "output_type": "stream",
     "text": [
      "[0 0 0]\n",
      "[21  0 11]\n",
      "[22  0 12]\n"
     ]
    }
   ],
   "source": [
    "print(np.diag(H)[6:])\n",
    "print(np.diag(H)[3:6])\n",
    "print(np.diag(H)[0:3])"
   ]
  },
  {
   "cell_type": "code",
   "execution_count": 6,
   "metadata": {},
   "outputs": [],
   "source": [
    "# set up the linear programming problem\n",
    "alpha_dict_01 = {'11': 2*np.pi*(-0.27935),\n",
    "             '12': 2*np.pi*(0.1599),\n",
    "             '21': 2*np.pi*(-0.52793),\n",
    "             '22': 2*np.pi*(-0.742967)}\n",
    "\n",
    "\n",
    "\n",
    "alpha_dict_test = {\n",
    "                '00': 0,\n",
    "                '01': 0,\n",
    "                '02': 0,\n",
    "                '10': 0,\n",
    "                '20': 0,\n",
    "                '11': 11,\n",
    "                '12': 12,\n",
    "                '21': 21,\n",
    "                '22': 22\n",
    "}\n",
    "\n",
    "\n",
    "def generate_equality_matrix(permutations_to_use, alpha_dict):\n",
    "    \n",
    "    a00 = alpha_dict.get('00',0)\n",
    "    a01 = alpha_dict.get('01',0)\n",
    "    a02 = alpha_dict.get('02',0)    \n",
    "    a10 = alpha_dict.get('10',0)\n",
    "    a11 = alpha_dict.get('11',0)\n",
    "    a12 = alpha_dict.get('12',0)\n",
    "    a20 = alpha_dict.get('20',0)    \n",
    "    a21 = alpha_dict.get('21',0)    \n",
    "    a22 = alpha_dict.get('22',0)\n",
    "    \n",
    "    base_hamiltonian = np.array([a00,a01,a02,a10,a11,a12,a20,a21,a22])\n",
    "    \n",
    "    equality_matrix_full = np.zeros((len(permutations_to_use), 9)) # has the local phases too\n",
    "    \n",
    "    for ind, permutation in enumerate(permutations_to_use):\n",
    "        equality_matrix_full[ind] = np.dot(permutation, base_hamiltonian)\n",
    "    \n",
    "    # now subtract the z rotation phases\n",
    "    equality_matrix_z1 = np.array([equality_matrix_full[:,i] - equality_matrix_full[:,3*(i//3)] for i in range(9)]).T\n",
    "    equality_matrix_z2 = np.array([equality_matrix_z1[:,i] - equality_matrix_z1[:,i%3] for i in range(9)]).T\n",
    "    \n",
    "    return equality_matrix_z2[:,[4,5,7,8]].T\n",
    "\n",
    "def generate_obj_function(permutations_to_use):\n",
    "    return np.ones(len(permutations_to_use))\n",
    "\n",
    "def generate_equality_vector(desired_phases, m_vector):\n",
    "    return desired_phases + 2*np.pi*np.array(m_vector)"
   ]
  },
  {
   "cell_type": "code",
   "execution_count": 7,
   "metadata": {},
   "outputs": [],
   "source": [
    "all_1q_perms = ['P{}'.format(a) for a in range(6)]\n",
    "all_permutations_list = list(product(all_1q_perms, all_1q_perms))\n",
    "all_permutations = [np.kron(P[a[0]], P[a[1]]) for a in all_permutations_list]\n",
    "\n",
    "permutations_initial_list = [('P0','P0'), ('P1','P1'),('P2','P2'), ('P3','P3'), ('P4','P4'), ('P5','P5')]\n",
    "permutations_initial = [np.kron(P[a[0]], P[a[1]]) for a in permutations_initial_list]\n",
    "\n",
    "permutations_original_list = [('P0','P0'), ('P0','P1'),('P1','P0'), ('P1','P1')]\n",
    "permutations_original = [np.kron(P[a[0]], P[a[1]]) for a in permutations_original_list]\n"
   ]
  },
  {
   "cell_type": "code",
   "execution_count": 8,
   "metadata": {},
   "outputs": [],
   "source": [
    "t1 = generate_equality_matrix(all_permutations, alpha_dict_01)\n",
    "t2 = generate_equality_matrix(permutations_original, alpha_dict_01)"
   ]
  },
  {
   "cell_type": "code",
   "execution_count": 9,
   "metadata": {},
   "outputs": [],
   "source": [
    "c1 = generate_obj_function(all_permutations)\n",
    "c2 = generate_obj_function(permutations_original)"
   ]
  },
  {
   "cell_type": "code",
   "execution_count": 10,
   "metadata": {},
   "outputs": [],
   "source": [
    "desired_phases = np.array([2*np.pi/3, 4*np.pi/3, 4*np.pi/3, 2*np.pi/3])"
   ]
  },
  {
   "cell_type": "code",
   "execution_count": 51,
   "metadata": {},
   "outputs": [
    {
     "name": "stdout",
     "output_type": "stream",
     "text": [
      "-1 -1 -1 -1\n",
      "1.4384898158517263\n"
     ]
    }
   ],
   "source": [
    "for m1 in range(-1,1):\n",
    "    for m2 in range(-1,1):\n",
    "        for m3 in range(-1,1):\n",
    "            for m4 in range(-1,1):\n",
    "                b_eq = generate_equality_vector(desired_phases, [m1,m2,m3,m4])\n",
    "                result = linprog(c2, A_eq = t2, b_eq = b_eq)\n",
    "                if result.success:\n",
    "                    if result.fun < 2:\n",
    "                        print(m1,m2,m3,m4)\n",
    "                        print(result.fun)"
   ]
  },
  {
   "cell_type": "code",
   "execution_count": 14,
   "metadata": {},
   "outputs": [
    {
     "data": {
      "text/plain": [
       "dict_values([-1.7552078155606172, 1.0046813306180158, -3.317082019219319, -4.668199338119296])"
      ]
     },
     "execution_count": 14,
     "metadata": {},
     "output_type": "execute_result"
    }
   ],
   "source": [
    "alpha_dict_01.values()"
   ]
  },
  {
   "cell_type": "code",
   "execution_count": 29,
   "metadata": {},
   "outputs": [],
   "source": [
    "# does this correspond with majorization?\n",
    "\n",
    "sorted_alphas = list(reversed(sorted(-1*np.array(list(alpha_dict_01.values())))))\n",
    "sorted_desired_phases = list(reversed(sorted(desired_phases)))"
   ]
  },
  {
   "cell_type": "code",
   "execution_count": 30,
   "metadata": {},
   "outputs": [
    {
     "data": {
      "text/plain": [
       "[4.1887902047863905,\n",
       " 4.1887902047863905,\n",
       " 2.0943951023931953,\n",
       " 2.0943951023931953]"
      ]
     },
     "execution_count": 30,
     "metadata": {},
     "output_type": "execute_result"
    }
   ],
   "source": [
    "sorted_desired_phases"
   ]
  },
  {
   "cell_type": "code",
   "execution_count": 31,
   "metadata": {},
   "outputs": [
    {
     "data": {
      "text/plain": [
       "[4.668199338119296, 3.317082019219319, 1.7552078155606172, -1.0046813306180158]"
      ]
     },
     "execution_count": 31,
     "metadata": {},
     "output_type": "execute_result"
    }
   ],
   "source": [
    "sorted_alphas"
   ]
  },
  {
   "cell_type": "code",
   "execution_count": 48,
   "metadata": {},
   "outputs": [],
   "source": [
    "def minimum_time_to_majorize(l1, l2):\n",
    "    \"\"\" determines the minimum time, t, at which list2 * t majorizes list1\"\"\"\n",
    "    \n",
    "    # sort list1 in descending order \n",
    "    l1_sorted = np.array(list(reversed(sorted(l1))))\n",
    "    l1_partial_sums = np.array([sum(l1_sorted[:i+1]) for i in range(len(l1_sorted))])\n",
    "    \n",
    "    # sort list2 in descending order\n",
    "    l2_sorted = np.array(list(reversed(sorted(l2))))\n",
    "    l2_partial_sums = np.array([sum(l2_sorted[:i+1]) for i in range(len(l2_sorted))])\n",
    "    \n",
    "    return np.max(l1_partial_sums/l2_partial_sums)"
   ]
  },
  {
   "cell_type": "code",
   "execution_count": 55,
   "metadata": {},
   "outputs": [
    {
     "name": "stdout",
     "output_type": "stream",
     "text": [
      "-0.4486516000486339\n",
      "-0.22432580002431696\n",
      "0.4486516000486338\n",
      "1.1216290001215845\n",
      "-0.22432580002431696\n",
      "-0.22432580002431696\n",
      "0.4486516000486338\n",
      "1.1216290001215845\n",
      "0.4486516000486338\n",
      "0.4486516000486338\n",
      "0.5245638841437714\n",
      "1.1216290001215845\n",
      "1.1216290001215845\n",
      "1.1216290001215845\n",
      "1.1216290001215845\n",
      "1.3114097103594284\n",
      "0.22432580002431685\n",
      "0.22432580002431685\n",
      "0.4486516000486338\n",
      "1.1216290001215845\n",
      "0.22432580002431685\n",
      "0.22432580002431685\n",
      "0.4486516000486338\n",
      "1.1216290001215845\n",
      "0.4486516000486338\n",
      "0.4486516000486338\n",
      "0.5375487476081768\n",
      "1.1216290001215845\n",
      "1.1216290001215845\n",
      "1.1216290001215845\n",
      "1.1216290001215845\n",
      "1.3114097103594284\n",
      "0.8973032000972676\n",
      "0.8973032000972676\n",
      "0.8973032000972676\n",
      "1.1802687393234856\n",
      "0.8973032000972676\n",
      "0.8973032000972676\n",
      "0.8973032000972676\n",
      "1.1802687393234856\n",
      "0.8973032000972676\n",
      "0.8973032000972676\n",
      "0.8973032000972676\n",
      "1.1826072447379892\n",
      "1.1802687393234856\n",
      "1.1802687393234856\n",
      "1.1826072447379892\n",
      "1.505136493302895\n",
      "1.5702806001702183\n",
      "1.5702806001702183\n",
      "1.5702806001702183\n",
      "1.5736916524313143\n",
      "1.5702806001702183\n",
      "1.5702806001702183\n",
      "1.5702806001702183\n",
      "1.5736916524313143\n",
      "1.5702806001702183\n",
      "1.5702806001702183\n",
      "1.5702806001702183\n",
      "1.5736916524313143\n",
      "1.5736916524313143\n",
      "1.5736916524313143\n",
      "1.5736916524313143\n",
      "1.8276657418678015\n",
      "0.22432580002431685\n",
      "0.22432580002431685\n",
      "0.4486516000486338\n",
      "1.1216290001215845\n",
      "0.22432580002431685\n",
      "0.22432580002431685\n",
      "0.4486516000486338\n",
      "1.1216290001215845\n",
      "0.4486516000486338\n",
      "0.4486516000486338\n",
      "0.5375487476081768\n",
      "1.1216290001215845\n",
      "1.1216290001215845\n",
      "1.1216290001215845\n",
      "1.1216290001215845\n",
      "1.3114097103594284\n",
      "0.26228194207188565\n",
      "0.26228194207188565\n",
      "0.4486516000486338\n",
      "1.1216290001215845\n",
      "0.26228194207188565\n",
      "0.26228194207188565\n",
      "0.4486516000486338\n",
      "1.1216290001215845\n",
      "0.4486516000486338\n",
      "0.4486516000486338\n",
      "0.7192449079258632\n",
      "1.1216290001215845\n",
      "1.1216290001215845\n",
      "1.1216290001215845\n",
      "1.1216290001215845\n",
      "1.438489815851726\n",
      "0.8973032000972676\n",
      "0.8973032000972676\n",
      "0.8973032000972676\n",
      "1.1802687393234856\n",
      "0.8973032000972676\n",
      "0.8973032000972676\n",
      "0.8973032000972676\n",
      "1.1802687393234856\n",
      "0.8973032000972676\n",
      "0.8973032000972676\n",
      "1.0788673618887947\n",
      "1.4384898158517265\n",
      "1.1802687393234856\n",
      "1.1802687393234856\n",
      "1.4384898158517265\n",
      "1.7981122698146577\n",
      "1.5702806001702183\n",
      "1.5702806001702183\n",
      "1.5702806001702183\n",
      "1.5736916524313143\n",
      "1.5702806001702183\n",
      "1.5702806001702183\n",
      "1.5702806001702183\n",
      "1.5736916524313143\n",
      "1.5702806001702183\n",
      "1.5702806001702183\n",
      "1.5702806001702183\n",
      "1.798112269814658\n",
      "1.5736916524313143\n",
      "1.5736916524313143\n",
      "1.798112269814658\n",
      "2.1577347237775895\n",
      "0.8973032000972676\n",
      "0.8973032000972676\n",
      "0.8973032000972676\n",
      "1.1802687393234856\n",
      "0.8973032000972676\n",
      "0.8973032000972676\n",
      "0.8973032000972676\n",
      "1.1802687393234856\n",
      "0.8973032000972676\n",
      "0.8973032000972676\n",
      "0.8973032000972676\n",
      "1.1826072447379892\n",
      "1.1802687393234856\n",
      "1.1802687393234856\n",
      "1.1826072447379892\n",
      "1.505136493302895\n",
      "0.8973032000972676\n",
      "0.8973032000972676\n",
      "0.8973032000972676\n",
      "1.1802687393234856\n",
      "0.8973032000972676\n",
      "0.8973032000972676\n",
      "0.8973032000972676\n",
      "1.1802687393234856\n",
      "0.8973032000972676\n",
      "0.8973032000972676\n",
      "1.0788673618887947\n",
      "1.4384898158517265\n",
      "1.1802687393234856\n",
      "1.1802687393234856\n",
      "1.4384898158517265\n",
      "1.7981122698146577\n",
      "1.0491277682875428\n",
      "1.0491277682875428\n",
      "1.0750974952163537\n",
      "1.3976267437812597\n",
      "1.0491277682875428\n",
      "1.0491277682875428\n",
      "1.0788673618887947\n",
      "1.4384898158517263\n",
      "1.0750974952163537\n",
      "1.0788673618887947\n",
      "1.4384898158517263\n",
      "1.7981122698146579\n",
      "1.3976267437812597\n",
      "1.4384898158517263\n",
      "1.7981122698146579\n",
      "2.1577347237775895\n",
      "1.5702806001702183\n",
      "1.5702806001702183\n",
      "1.5702806001702183\n",
      "1.720155992346166\n",
      "1.5702806001702183\n",
      "1.5702806001702183\n",
      "1.5702806001702183\n",
      "1.7981122698146579\n",
      "1.5702806001702183\n",
      "1.5702806001702183\n",
      "1.7981122698146579\n",
      "2.1577347237775895\n",
      "1.720155992346166\n",
      "1.7981122698146579\n",
      "2.1577347237775895\n",
      "2.5173571777405215\n",
      "1.5702806001702183\n",
      "1.5702806001702183\n",
      "1.5702806001702183\n",
      "1.5736916524313143\n",
      "1.5702806001702183\n",
      "1.5702806001702183\n",
      "1.5702806001702183\n",
      "1.5736916524313143\n",
      "1.5702806001702183\n",
      "1.5702806001702183\n",
      "1.5702806001702183\n",
      "1.5736916524313143\n",
      "1.5736916524313143\n",
      "1.5736916524313143\n",
      "1.5736916524313143\n",
      "1.8276657418678015\n",
      "1.5702806001702183\n",
      "1.5702806001702183\n",
      "1.5702806001702183\n",
      "1.5736916524313143\n",
      "1.5702806001702183\n",
      "1.5702806001702183\n",
      "1.5702806001702183\n",
      "1.5736916524313143\n",
      "1.5702806001702183\n",
      "1.5702806001702183\n",
      "1.5702806001702183\n",
      "1.798112269814658\n",
      "1.5736916524313143\n",
      "1.5736916524313143\n",
      "1.798112269814658\n",
      "2.1577347237775895\n",
      "1.5702806001702183\n",
      "1.5702806001702183\n",
      "1.5702806001702183\n",
      "1.720155992346166\n",
      "1.5702806001702183\n",
      "1.5702806001702183\n",
      "1.5702806001702183\n",
      "1.7981122698146579\n",
      "1.5702806001702183\n",
      "1.5702806001702183\n",
      "1.7981122698146579\n",
      "2.1577347237775895\n",
      "1.720155992346166\n",
      "1.7981122698146579\n",
      "2.1577347237775895\n",
      "2.5173571777405215\n",
      "1.8359735945031999\n",
      "1.8359735945031999\n",
      "1.8359735945031999\n",
      "2.042685240911072\n",
      "1.8359735945031999\n",
      "1.8359735945031999\n",
      "1.8359735945031999\n",
      "2.1577347237775895\n",
      "1.8359735945031999\n",
      "1.8359735945031999\n",
      "2.1577347237775895\n",
      "2.5173571777405215\n",
      "2.042685240911072\n",
      "2.1577347237775895\n",
      "2.5173571777405215\n",
      "2.876979631703453\n"
     ]
    }
   ],
   "source": [
    "for m1 in range(-2,2):\n",
    "    for m2 in range(-2,2):\n",
    "        for m3 in range(-2,2):\n",
    "            for m4 in range(-2,2):\n",
    "                print(minimum_time_to_majorize(sorted_desired_phases + np.pi*np.array([m1,m2,m3,m4]), sorted_alphas))"
   ]
  },
  {
   "cell_type": "code",
   "execution_count": 320,
   "metadata": {
    "scrolled": false
   },
   "outputs": [
    {
     "name": "stdout",
     "output_type": "stream",
     "text": [
      "-1 -1 -1 0\n",
      "[0.         0.         0.         0.         0.         0.3986566\n",
      " 0.         0.         0.         0.         0.         0.\n",
      " 0.         0.         0.         0.13608932 0.         0.\n",
      " 0.         0.         0.         0.         0.         0.\n",
      " 0.         0.         0.13608932 0.         0.         0.\n",
      " 0.         0.         0.         0.         0.3986566  0.        ]\n",
      "1.0694918363014405\n",
      "0 -1 -1 -1\n",
      "[0.         0.         0.         0.         0.         0.\n",
      " 0.         0.         0.         0.         0.3986566  0.\n",
      " 0.         0.         0.         0.         0.         0.\n",
      " 0.         0.         0.13608932 0.         0.         0.\n",
      " 0.         0.         0.         0.         0.         0.3986566\n",
      " 0.         0.         0.         0.13608932 0.         0.        ]\n",
      "1.0694918363014405\n",
      "0 0 0 0\n",
      "[0.         0.         0.         0.         0.         0.\n",
      " 0.         0.         0.         0.3986566  0.         0.\n",
      " 0.         0.         0.         0.         0.         0.\n",
      " 0.         0.         0.         0.         0.         0.13608932\n",
      " 0.         0.3986566  0.         0.         0.         0.\n",
      " 0.13608932 0.         0.         0.         0.         0.        ]\n",
      "1.0694918363014403\n"
     ]
    }
   ],
   "source": [
    "for m1 in range(-1,1):\n",
    "    for m2 in range(-1,1):\n",
    "        for m3 in range(-1,1):\n",
    "            for m4 in range(-1,1):\n",
    "                b_eq = generate_equality_vector(desired_phases, [m1,m2,m3,m4])\n",
    "                result = linprog(c1, A_eq = t1, b_eq = b_eq)\n",
    "                if result.success:\n",
    "                    if result.fun < 1.1:\n",
    "                        print(m1,m2,m3,m4)\n",
    "                        print(result.x)\n",
    "                        print(result.fun)"
   ]
  },
  {
   "cell_type": "code",
   "execution_count": 266,
   "metadata": {},
   "outputs": [],
   "source": [
    "def permutation_transitions(P1, P2):\n",
    "    lookup_table = np.array([[0,1,1,2,2,3],\n",
    "                            [1,0,2,3,1,2],\n",
    "                            [1,2,0,1,3,2],\n",
    "                            [2,3,1,0,2,1],\n",
    "                            [2,1,3,2,0,1],\n",
    "                            [3,2,2,1,1,0]])\n",
    "    return lookup_table[P1,P2]\n",
    "\n",
    "def total_permutation_transitions(list_of_permutations):\n",
    "    # determines the total number of transitions to go through the given list of permutations\n",
    "    return sum([permutation_transitions(list_of_permutations[i], list_of_permutations[i+1]) for i in range(len(list_of_permutations)-1)])"
   ]
  },
  {
   "cell_type": "code",
   "execution_count": 271,
   "metadata": {},
   "outputs": [],
   "source": [
    "def fewest_singlequbit_gates(list_of_permutations):\n",
    "    # module should do import:\n",
    "    #     from itertools import permutations\n",
    "    \n",
    "    min_trans = np.inf\n",
    "    min_order = None\n",
    "    for permutation_order in permutations(list_of_permutations):\n",
    "        permutation_order_q1 = [0] + [a[0] for a in permutation_order] + [0] \n",
    "        permutation_order_q2 = [0] + [a[1] for a in permutation_order] + [0] \n",
    "        \n",
    "        total_transitions = total_permutation_transitions(permutation_order_q1) + total_permutation_transitions(permutation_order_q2)\n",
    "        if total_transitions < min_trans:\n",
    "            min_trans = total_transitions\n",
    "            min_order = permutation_order\n",
    "    \n",
    "    return min_trans, min_order"
   ]
  },
  {
   "cell_type": "code",
   "execution_count": 274,
   "metadata": {},
   "outputs": [],
   "source": [
    "list1 = [(0,5), (2,3), (4,2), (5,4)]\n",
    "list2 = [(1,4), (3,2), (4,5), (5,3)]\n",
    "list3 = [(1,3), (3,5), (4,1), (5,0)]"
   ]
  },
  {
   "cell_type": "code",
   "execution_count": 273,
   "metadata": {
    "scrolled": false
   },
   "outputs": [
    {
     "data": {
      "text/plain": [
       "(16, ((0, 5), (2, 3), (5, 4), (4, 2)))"
      ]
     },
     "execution_count": 273,
     "metadata": {},
     "output_type": "execute_result"
    }
   ],
   "source": [
    "fewest_singlequbit_gates(list1)"
   ]
  },
  {
   "cell_type": "code",
   "execution_count": 275,
   "metadata": {},
   "outputs": [
    {
     "data": {
      "text/plain": [
       "(12, ((1, 4), (4, 5), (5, 3), (3, 2)))"
      ]
     },
     "execution_count": 275,
     "metadata": {},
     "output_type": "execute_result"
    }
   ],
   "source": [
    "fewest_singlequbit_gates(list2)"
   ]
  },
  {
   "cell_type": "code",
   "execution_count": 276,
   "metadata": {},
   "outputs": [
    {
     "data": {
      "text/plain": [
       "(16, ((1, 3), (3, 5), (4, 1), (5, 0)))"
      ]
     },
     "execution_count": 276,
     "metadata": {},
     "output_type": "execute_result"
    }
   ],
   "source": [
    "fewest_singlequbit_gates(list3)"
   ]
  },
  {
   "cell_type": "code",
   "execution_count": 334,
   "metadata": {},
   "outputs": [],
   "source": [
    "def ver1gate_map(alpha_dict):\n",
    "    a11 = alpha_dict.get('11',0)\n",
    "    a12 = alpha_dict.get('12',0)\n",
    "    a21 = alpha_dict.get('21',0)    \n",
    "    a22 = alpha_dict.get('22',0)\n",
    "    \n",
    "    return np.array([[-a22, a22-a21, a12 - a11 - a22 + a21, a11 - a21],\n",
    "                     [a21-a22, a22, a21 - a11, a22 - a21 - a12 + a11],\n",
    "                     [-a12, a11 - a12 - a21 + a22, a21 - a22, a11],\n",
    "                     [a11-a12, a22-a12, a21, a11 - a12],\n",
    "                    ])"
   ]
  },
  {
   "cell_type": "code",
   "execution_count": 341,
   "metadata": {},
   "outputs": [],
   "source": [
    "gate_times = np.linalg.solve(ver1gate_map(alpha_dict_01), desired_phases - 2*np.pi*np.array([0,1,1,1]))"
   ]
  },
  {
   "cell_type": "code",
   "execution_count": 343,
   "metadata": {},
   "outputs": [
    {
     "data": {
      "text/plain": [
       "array([0.3986566 , 0.3986566 , 0.13608932, 0.13608932])"
      ]
     },
     "execution_count": 343,
     "metadata": {},
     "output_type": "execute_result"
    }
   ],
   "source": [
    "gate_times"
   ]
  },
  {
   "cell_type": "code",
   "execution_count": null,
   "metadata": {},
   "outputs": [],
   "source": []
  }
 ],
 "metadata": {
  "kernelspec": {
   "display_name": "Python 3",
   "language": "python",
   "name": "python3"
  },
  "language_info": {
   "codemirror_mode": {
    "name": "ipython",
    "version": 3
   },
   "file_extension": ".py",
   "mimetype": "text/x-python",
   "name": "python",
   "nbconvert_exporter": "python",
   "pygments_lexer": "ipython3",
   "version": "3.6.4"
  }
 },
 "nbformat": 4,
 "nbformat_minor": 2
}
