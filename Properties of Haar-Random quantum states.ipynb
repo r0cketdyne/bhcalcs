{
 "cells": [
  {
   "cell_type": "markdown",
   "metadata": {},
   "source": [
    "# Properties of Haar-Random quantum states\n",
    "Written by Vinay Ramasesh, November 2018\n",
    "\n",
    "Comments/questions/errata welcome: ramasesh@berkeley.edu"
   ]
  },
  {
   "cell_type": "markdown",
   "metadata": {},
   "source": [
    "This notebook is intended for students and researchers in the field of quantum information to gain some familiarity with random quantum states.  The idea of a random quantum state being drawn from the Haar measure (so-called Haar-random quantum states) is becoming more prevalent in the quantum information literature, especially in works looking at quantum characterization, verification, and validation (QCVV).  Our goal here is for those in the field, especially experimentalists, who haven't seen these concepts before, to feel comfortable when encountering these terms in the literature.  We avoid derivations here, focusing instead on numerical experiments.\n",
    "\n",
    "** In one sentence, the message of this notebook is: *random* pure states are highly entangled! **\n",
    "\n",
    "Basic familiarity with quantum information will be helpful for understanding this notebook, but beyond first-yethe bulk of the content should be accessible to those who have taken a first course in quantum mechanics, and have a good understanding of linear algebra and basic probability theory."
   ]
  },
  {
   "cell_type": "code",
   "execution_count": 336,
   "metadata": {},
   "outputs": [],
   "source": [
    "import numpy as np\n",
    "import matplotlib.pyplot as plt\n",
    "\n",
    "%matplotlib inline"
   ]
  },
  {
   "cell_type": "markdown",
   "metadata": {},
   "source": [
    "## How do you sample a uniform (pure) quantum state on a Hilbert space of dimension n?"
   ]
  },
  {
   "cell_type": "markdown",
   "metadata": {},
   "source": [
    "First things first: let's look at how one can go about sampling a *pure* quantum state from the Haar measure.  When we talk about quantum states, the Haar measure is simply the probability distribution over pure quantum states which is invariant under unitary transformations. \n",
    "### Qubit case (n = 2)\n",
    "We can get some intuition for this question by looking first at the case where $n$ = 2, that is, Haar-random *qubit* states.  A general qubit state:\n",
    "* is specified by four real numbers, \n",
    "\\begin{equation}\n",
    "|\\psi\\rangle = \\left(x_0 + i y_0\\right) |0\\rangle + \\left(x_1 + i y_1\\right) |1\\rangle\n",
    "\\end{equation}\n",
    "* subject to the normalization constraint $x_0^2 + x_1^2 + y_0^2 + y_1^2 = 1$, \n",
    "* and with the caveat that states which differ by an overall phase are the same quantum state.\n",
    "\n",
    "We want to specify a joint probability distribution for $x_0, x_1, y_0, y_1$ such that all pure states are equally likely.  Since any set of four numbers that satisfies normalization should be equally likely, we can just write \n",
    "\\begin{equation}\n",
    "p(x_0, y_0, x_1, y_1) = \\mathcal{N}\\delta(x_0^2 + x_1^2 + y_0^2 + y_1^2 - 1),\n",
    "\\end{equation}\n",
    "where $\\mathcal{N}$ is simply a normalization constant. This is true in higher dimensions as well.  But how do we sample from such a distribution?\n",
    "\n",
    "As you might expect, the way to understand this sampling is to exploit geometric intuition, and think of what you're doing as sampling uniformly from the surface of the unit-sphere of dimension $2N$ (where $N$ is the dimension of the Hibert space, *not* the number of qubits).  Note that sampling from this distribution is not trivial since the variables $x_0, x_1, y_0, y_1$ are not independent (because of the normalization constraint, i.e. that the sphere must have unit radius).  However, it turns out there's a nice trick to sample from a sphere of arbitrary dimension $M$:  you just generate $M$ independent, normally-distributed random variables and then normalize.  Think about why this works!  \n",
    "\n",
    "With some numerical experiments, we can show that this method of sampling from a sphere works for the cases of $n = 2$:"
   ]
  },
  {
   "cell_type": "code",
   "execution_count": 4,
   "metadata": {},
   "outputs": [],
   "source": [
    "def uniform_sphere_point(dimension = 2, num_points = 100):\n",
    "    \"\"\" Generates a uniformly-sampled point from the surface of a unit-sphere with the specified dimension \"\"\"\n",
    "    \n",
    "    # as described above, we first generate a set of random, independent realizations of a gaussian randomv variable\n",
    "    # because these points are independently generated, they won't satisfy the normalization condition\n",
    "    initial_points = np.random.randn(dimension, num_points) \n",
    "    \n",
    "    # Next, we simply normalize each point such that it lies on the unit sphere\n",
    "    radii = np.sqrt(np.sum(initial_points**2, axis = 0))\n",
    "    normalized_points = initial_points / radii\n",
    "    return normalized_points"
   ]
  },
  {
   "cell_type": "markdown",
   "metadata": {},
   "source": [
    "Run the following cell a few times to see that indeed, we are sampling from a 1-sphere (circle)."
   ]
  },
  {
   "cell_type": "code",
   "execution_count": 340,
   "metadata": {},
   "outputs": [
    {
     "data": {
      "image/png": "[encoded data removed]",
      "text/plain": [
       "<Figure size 360x360 with 1 Axes>"
      ]
     },
     "metadata": {},
     "output_type": "display_data"
    }
   ],
   "source": [
    "plt.figure(figsize = (5,5))\n",
    "plt.scatter(*uniform_sphere_point(), marker = '.')\n",
    "plt.axis('square');\n",
    "plt.title('Uniformly sampled points from circle with Gaussian method');"
   ]
  },
  {
   "cell_type": "markdown",
   "metadata": {},
   "source": [
    "#### Checking uniform sampling via angles"
   ]
  },
  {
   "cell_type": "markdown",
   "metadata": {},
   "source": [
    "To check that we are properly sampling uniformly from the circle, we can take each point and calculate the angle it forms to the x-axis.  As the number of points grows, the distribution of angles should approach the uniform distribution on the interval $[-\\pi, \\pi)$.  "
   ]
  },
  {
   "cell_type": "code",
   "execution_count": 339,
   "metadata": {},
   "outputs": [],
   "source": [
    "def angles(n_points):\n",
    "    \"\"\" samples n_points from a circle using the method and returns their angles on the interval [-pi,pi]\"\"\"\n",
    "    sampled_points = uniform_sphere_point(dimension = 2, num_points = n_points)\n",
    "    angles = np.angle(sampled_points[0] + 1j*sampled_points[1])\n",
    "    \n",
    "    return angles"
   ]
  },
  {
   "cell_type": "code",
   "execution_count": 68,
   "metadata": {},
   "outputs": [
    {
     "data": {
      "image/png": "[encoded data removed]",
      "text/plain": [
       "<Figure size 1008x180 with 4 Axes>"
      ]
     },
     "metadata": {},
     "output_type": "display_data"
    }
   ],
   "source": [
    "number_of_points = [100,1000,10000,100000]\n",
    "\n",
    "plt.figure(figsize = (14,2.5))\n",
    "for i,n_points in enumerate(number_of_points):\n",
    "    plt.subplot(1,len(number_of_points),i+1)\n",
    "    plt.hist(angles(n_points), bins = 100, range = np.array([-np.pi,np.pi]));\n",
    "    plt.title('{} points'.format(n_points))\n",
    "    plt.xlabel('Angle (rad)')\n",
    "    plt.ylabel('Number of Occurrences')\n",
    "plt.tight_layout()"
   ]
  },
  {
   "cell_type": "markdown",
   "metadata": {},
   "source": [
    "Play with the above cell a few times, and you should convince yourself that we have indeed properly sampled from a circle using this method."
   ]
  },
  {
   "cell_type": "markdown",
   "metadata": {},
   "source": [
    "Having convinced ourselves that we have a good method for sampling from a sphere of arbitrary dimension, we will use this method to generate random pure states for arbitrary-dimensioned systems, and explore some of their properties.  "
   ]
  },
  {
   "cell_type": "markdown",
   "metadata": {},
   "source": [
    "## Properties of Haar-Random states\n",
    "### 1. Uniform pure states on a bipartite system are almost always entangled"
   ]
  },
  {
   "cell_type": "markdown",
   "metadata": {},
   "source": [
    "It turns out that if you generate a pure state of a bipartite (say, $N \\times K$ dimensional) system, the states are almost always entangled.  One way to think about this is to think about the dimension of the relevant Hilbert spaces.  As we discussed earlier, pure states of the $N \\times K$ dimensional system occupy the surface of a sphere with $(2 \\times N \\times K)$ dimensions.  Removing one dimension since the overall phase is irrelevant gives $2NK - 1$.  By similar logic, pure states of the $N$ dimensional system (with the overall phase taken out) occupy a manifold of $2N-1$ dimensions, while pure states of the K dimensional system occupy a manifold of $2K-1$ dimensions.  That means that the dimension of the set of of pure states in the $N \\times K$ dimensional space is the sum of the above two dimensions, i.e. $2N + 2K - 2$.  This is generally less than the dimension of the full Hilbert space, which we said above was $2NK - 1$.  \n",
    "\n",
    "For example in the qubit-qubit case, where $N = K = 2$, the space of pure states is 3-dimensional, whereas the space of all states is 7-dimensional.  So if you uniformly sample from the 7-dimensional space, you'll almost never see a pure state. "
   ]
  },
  {
   "cell_type": "markdown",
   "metadata": {},
   "source": [
    "Let's do some numerics to investigate the entanglement entropy of a random qubit entangled with another system (i.e. a $2$ x $N$ dimensional) state, i.e. the entropy when you trace out the thing that's not the qubit.  (Note: we use some helper functions here, defined and explained in the final section of this notebook.)"
   ]
  },
  {
   "cell_type": "code",
   "execution_count": 110,
   "metadata": {},
   "outputs": [
    {
     "name": "stdout",
     "output_type": "stream",
     "text": [
      "System 1 dimension: 2, System 2 dimension: 2\n",
      "     The mean of the entanglement entropies is 0.46, with stdev 0.28\n",
      "     Note the maximal entropy for this subsystem dimension is 1.00\n",
      "System 1 dimension: 2, System 2 dimension: 5\n",
      "     The mean of the entanglement entropies is 0.76, with stdev 0.15\n",
      "     Note the maximal entropy for this subsystem dimension is 1.00\n",
      "System 1 dimension: 2, System 2 dimension: 12\n",
      "     The mean of the entanglement entropies is 0.92, with stdev 0.07\n",
      "     Note the maximal entropy for this subsystem dimension is 1.00\n"
     ]
    }
   ],
   "source": [
    "n_states = 100\n",
    "dim_sys1 = 2\n",
    "entropies = np.zeros(n_states)\n",
    "\n",
    "for dim_sys2 in [2, 5, 12]:\n",
    "    \n",
    "    for i in range(n_states):\n",
    "\n",
    "        # generate a random pure state\n",
    "        psi = random_pure_state(dim_sys1*dim_sys2)\n",
    "\n",
    "        # convert it into a density matrix\n",
    "        rho = vec_to_dm(psi)\n",
    "\n",
    "        # take the partial trace to get the density matrix of system 1 only\n",
    "        rho_reduced = partial_trace(rho, dim = [dim_sys1, dim_sys2])\n",
    "\n",
    "        # calculate the entanglement entropy\n",
    "        entropies[i] = entropy(rho_reduced)\n",
    "\n",
    "    print('System 1 dimension: {}, System 2 dimension: {}'.format(dim_sys1, dim_sys2))\n",
    "    print('     The mean of the entanglement entropies is {:.2f}, with stdev {:.2f}'.format(np.mean(entropies), np.std(entropies)))\n",
    "    print('     Note the maximal entropy for this subsystem dimension is {:.2f}'.format(np.log2(dim_sys1)))"
   ]
  },
  {
   "cell_type": "markdown",
   "metadata": {},
   "source": [
    "Playing with the above cell a few times (modify the values used for dim_sys2) should convince you that as the size of the second, traced-out subsystem increases, the entropy of the remaining system approaches its maximal value of $\\log_2(N_1)$, where $N_1$ is the dimension of the first subsystem."
   ]
  },
  {
   "cell_type": "markdown",
   "metadata": {},
   "source": [
    "### 2. Page's formula for the average entropy of a subsystem\n",
    "The above observation, that for a Haar-random total state, the average entropy of a subsystem increases as the size of its complement increases, can be made more quantitative.  Don Page has derived this approximate formula in this [PRL](https://journals.aps.org/prl/abstract/10.1103/PhysRevLett.71.1291):\n",
    "\\begin{equation}\n",
    "S(N_1,N_2) \\approx \\log{N_1} - \\frac{N_1}{2N_2},\n",
    "\\end{equation}\n",
    "where here $N_1$ and $N_2$ are the dimensions of systems 1 and 2, respectively, and $S(N_1, N_2)$ is the average entropy of the subsystem of dimension $N_1$.  This approximation is valid when both $N_1 \\gg 1$ and $N_2 \\gg 1$, and when $N_1 < N_2$.  \n",
    "\n",
    "Note that $\\log{N_1}$ is the maximal possible entropy system 1 can have!  Thus what Page's formula says is that the deviation from maximal entropy is given by $\\frac{N_1}{2N_2}$.  "
   ]
  },
  {
   "cell_type": "markdown",
   "metadata": {},
   "source": [
    "Let us now verify Page's formula numerically.  Below, we define two functions, \n",
    "* avg_entropy(), which calculates numerically the average entropy of a bipartite system, and\n",
    "* avg_entropy_Page(), which evaluates Page's formula given above"
   ]
  },
  {
   "cell_type": "code",
   "execution_count": 111,
   "metadata": {},
   "outputs": [],
   "source": [
    "def avg_entropy(dim_sys1, dim_sys2, n_states = 100):\n",
    "    \"\"\" returns the average entropy (averaged over n_states randomly-generated pure states of dimension dim_sys1*dim_sys2)\n",
    "        of the reduced density matrix one obtains by tracing out system 2 \"\"\"\n",
    "    \n",
    "    entropies = np.zeros(n_states)\n",
    "    \n",
    "    for i in range(n_states):\n",
    "        psi = random_pure_state(dim_sys1*dim_sys2)\n",
    "        rho = vec_to_dm(psi)\n",
    "        rho_reduced = partial_trace(rho, dim = [dim_sys1, dim_sys2])\n",
    "        entropies[i] = entropy(rho_reduced)\n",
    "    \n",
    "    return np.mean(entropies)\n",
    "\n",
    "def avg_entropy_Page(dim_sys1, dim_sys2):\n",
    "    \"\"\" returns the average entropy (calculated via Don Page's approximate formula) \n",
    "        for a pure state of dimension dim_sys1 * dim_sys2\n",
    "        \"\"\"\n",
    "    \n",
    "    return (np.log(dim_sys1) - dim_sys1/(2.*dim_sys2))/np.log(2)"
   ]
  },
  {
   "cell_type": "markdown",
   "metadata": {},
   "source": [
    "We evaluate both of these functions for the case of a qubit (dim = 2) entangled with a system of size ranging from 2 to 11:"
   ]
  },
  {
   "cell_type": "code",
   "execution_count": 112,
   "metadata": {},
   "outputs": [],
   "source": [
    "dims_sys2 = np.arange(2, 11)\n",
    "dim_sys1 = 2\n",
    "qubit_entropies = [avg_entropy(dim_sys1, int(n), n_states = 1000) for n in dims_sys2]\n",
    "qubit_entropies_Page = [avg_entropy_Page(dim_sys1, int(n)) for n in dims_sys2]"
   ]
  },
  {
   "cell_type": "code",
   "execution_count": 128,
   "metadata": {},
   "outputs": [
    {
     "data": {
      "text/plain": [
       "Text(4,0.96,'Maximum Possible Entropy')"
      ]
     },
     "execution_count": 128,
     "metadata": {},
     "output_type": "execute_result"
    },
    {
     "data": {
      "image/png": "[encoded data removed]",
      "text/plain": [
       "<Figure size 432x288 with 1 Axes>"
      ]
     },
     "metadata": {},
     "output_type": "display_data"
    }
   ],
   "source": [
    "plt.scatter(dims_sys2, qubit_entropies, label = 'Numerical')\n",
    "plt.plot(dims_sys2, qubit_entropies_Page, label = 'Page formula')\n",
    "plt.title('Haar-random pure state entanglement entropy ({} X N_2)'.format(dim_sys1))\n",
    "plt.xlabel('System 2 dimension (N_2)')\n",
    "plt.ylabel('Von Neumann entropy')\n",
    "plt.legend(loc = 4)\n",
    "plt.axhline(np.log2(dim_sys1), linestyle = 'dashed')\n",
    "plt.text(x = 4, y = 0.96, s = 'Maximum Possible Entropy', withdash = True)"
   ]
  },
  {
   "cell_type": "markdown",
   "metadata": {},
   "source": [
    "Here we can see the good agreement between Page's formula and our numerics."
   ]
  },
  {
   "cell_type": "markdown",
   "metadata": {},
   "source": [
    "### 3. How entangled are two qubits on average?"
   ]
  },
  {
   "cell_type": "markdown",
   "metadata": {},
   "source": [
    "Experimentalists in quantum computing are likely to be quite familiar with single-qubit density matrices.  To give some concrete intuition for the case of two qubits, let's find an impure single-qubit density matrix which has similar entropy to one that arises on average from a two-qubit Haar random state.\n",
    "\n",
    "First, we calculate the average entropy of a two-qubit state."
   ]
  },
  {
   "cell_type": "code",
   "execution_count": 61,
   "metadata": {},
   "outputs": [
    {
     "data": {
      "text/plain": [
       "0.48422185685387192"
      ]
     },
     "execution_count": 61,
     "metadata": {},
     "output_type": "execute_result"
    }
   ],
   "source": [
    "avg_entropy(2,2, n_states = 10000)"
   ]
  },
  {
   "cell_type": "markdown",
   "metadata": {},
   "source": [
    "Let's see what sort of density matrix would have this sort of von Neumann entropy.  That is, what should the off-diagional terms be?"
   ]
  },
  {
   "cell_type": "code",
   "execution_count": 129,
   "metadata": {},
   "outputs": [],
   "source": [
    "sys_dim = 2\n",
    "coherence = 0.8\n",
    "dm = (np.eye(sys_dim) + coherence * np.array([[0,1],[1,0]]))/sys_dim"
   ]
  },
  {
   "cell_type": "code",
   "execution_count": 130,
   "metadata": {},
   "outputs": [
    {
     "data": {
      "text/plain": [
       "array([[0.5, 0.4],\n",
       "       [0.4, 0.5]])"
      ]
     },
     "execution_count": 130,
     "metadata": {},
     "output_type": "execute_result"
    }
   ],
   "source": [
    "dm"
   ]
  },
  {
   "cell_type": "code",
   "execution_count": 132,
   "metadata": {},
   "outputs": [
    {
     "data": {
      "text/plain": [
       "0.46899559358928156"
      ]
     },
     "execution_count": 132,
     "metadata": {},
     "output_type": "execute_result"
    }
   ],
   "source": [
    "entropy(dm)"
   ]
  },
  {
   "cell_type": "markdown",
   "metadata": {},
   "source": [
    "So it looks like the generic value of the off diagonal element's magnitude is roughly 80 percent of the pure-state value."
   ]
  },
  {
   "cell_type": "markdown",
   "metadata": {},
   "source": [
    "### 4. Haar-random 2-qubit states trace out to a uniform distribution on *mixed* single-qubit states"
   ]
  },
  {
   "cell_type": "markdown",
   "metadata": {},
   "source": [
    "Say we take two qubits, generate a Haar-random pure two-qubit state, and trace out one of the qubits to get a single-qubit density matrix.  This operation defines a probability distribution on the space of single-qubit density matrices.  What does such a distribution look like?  \n",
    "\n",
    "Let's play around a bit numerically to find out."
   ]
  },
  {
   "cell_type": "code",
   "execution_count": 168,
   "metadata": {},
   "outputs": [],
   "source": [
    "n_states_2q = 1000\n",
    "radii = np.empty((n_states_2q, ))\n",
    "\n",
    "for i in range(n_states_2q):\n",
    "    psi = random_pure_state(dim = 4) # 2-qubit pure state\n",
    "    rho = vec_to_dm(psi)\n",
    "    rho_reduced = partial_trace(rho, dim = [2,2])\n",
    "    radii[i] = dm_to_r(rho_reduced)"
   ]
  },
  {
   "cell_type": "markdown",
   "metadata": {},
   "source": [
    "We've generated a bunch of single-qubit Bloch vectors according to the procedure described above.  Let's histogram them to see how they look:"
   ]
  },
  {
   "cell_type": "code",
   "execution_count": 169,
   "metadata": {},
   "outputs": [
    {
     "data": {
      "text/plain": [
       "Text(0,0.5,'Frequency')"
      ]
     },
     "execution_count": 169,
     "metadata": {},
     "output_type": "execute_result"
    },
    {
     "data": {
      "image/png": "[encoded data removed]",
      "text/plain": [
       "<Figure size 360x360 with 1 Axes>"
      ]
     },
     "metadata": {},
     "output_type": "display_data"
    }
   ],
   "source": [
    "plt.figure(figsize = (5,5))\n",
    "plt.hist(radii, bins = 100, range = [0,1]);\n",
    "plt.title('Bloch vector radii of traced-out single qubit states')\n",
    "plt.xlabel('Bloch vector radius')\n",
    "plt.ylabel('Frequency')"
   ]
  },
  {
   "cell_type": "markdown",
   "metadata": {},
   "source": [
    "Interesting!  This looks like it might be quadratic.  Let's take more data to find out."
   ]
  },
  {
   "cell_type": "code",
   "execution_count": 170,
   "metadata": {},
   "outputs": [],
   "source": [
    "n_states_2q = 10000\n",
    "radii = np.empty((n_states_2q, ))\n",
    "\n",
    "for i in range(n_states_2q):\n",
    "    psi = random_pure_state(dim = 4) # 2-qubit pure state\n",
    "    rho = vec_to_dm(psi)\n",
    "    rho_reduced = partial_trace(rho, dim = [2,2])\n",
    "    radii[i] = dm_to_r(rho_reduced)"
   ]
  },
  {
   "cell_type": "code",
   "execution_count": 184,
   "metadata": {},
   "outputs": [
    {
     "data": {
      "text/plain": [
       "<matplotlib.legend.Legend at 0x11207a4a8>"
      ]
     },
     "execution_count": 184,
     "metadata": {},
     "output_type": "execute_result"
    },
    {
     "data": {
      "image/png": "[encoded data removed]",
      "text/plain": [
       "<Figure size 360x360 with 1 Axes>"
      ]
     },
     "metadata": {},
     "output_type": "display_data"
    }
   ],
   "source": [
    "plt.figure(figsize = (5,5))\n",
    "xy_bv = plt.hist(radii, bins = 100, range = [0,1], label = 'histogram');\n",
    "plt.title('Bloch vector radii of traced-out single qubit states')\n",
    "plt.xlabel('Bloch vector radius')\n",
    "plt.ylabel('Frequency')\n",
    "\n",
    "#fit the histogram to a quadratic and overlay it\n",
    "a, b, c = np.polyfit(xy_bv[1][:-1], xy_bv[0], deg = 2)\n",
    "\n",
    "x_fit = np.linspace(0,1,100)\n",
    "plt.plot(x_fit, a*x_fit*x_fit + b*x_fit + c, label = 'Quadratic fit')\n",
    "\n",
    "plt.legend(loc = 2)"
   ]
  },
  {
   "cell_type": "markdown",
   "metadata": {},
   "source": [
    "We can see above that the quadratic fit matches the data perfectly.  This means that, since we expect the induced distribution to be invariant to rotations, that the induced distribution uniformly covers the Bloch sphere!  This is a remarkable result:  __If we generate a density matrix by generating a Haar-random 2-qubit state, and trace out one of the qubits, we uniformly sample points on the (interior + surface) of the Bloch sphere!__\n",
    "\n",
    "This result can be analytically proven, as done in [this paper](https://arxiv.org/pdf/quant-ph/0012101.pdf) by Zyczkowski and Sommers.  In fact, it holds not just for two-qubit systems, but for any size bipartite system of equal dimension, i.e. for any two-qu*d*it system.  For those familiar with analysis, the resulting measure on the sphere is known as the Lebesgue or Borel measure.  "
   ]
  },
  {
   "cell_type": "markdown",
   "metadata": {},
   "source": [
    "### 5. Qubit entangled with an N-dimensional system: von Neumann entropy distribution"
   ]
  },
  {
   "cell_type": "markdown",
   "metadata": {},
   "source": [
    "We saw above, both numerically and via Page's formula, that for a qubit entangled with an $N$-dimensional system (with the whole system in a Haar-random pure state) the average entropy of the qubit state alone increases as $N$ increases.  Let's see how the distribution of entropy itself (not just its average value) looks for varying sizes $N$.   We'd expect that entropy distribution to shift to higher and higher values as the dimension of the second system increases.  But, I don't know of any analytic result for this, so it's in some sense just for fun. "
   ]
  },
  {
   "cell_type": "code",
   "execution_count": 189,
   "metadata": {},
   "outputs": [],
   "source": [
    "n_random_states = 10000\n",
    "dim_sys1 = 2\n",
    "dim_sys2 = 3\n",
    "\n",
    "bin_edges = np.linspace(0,1,100)\n",
    "bin_centers = (bin_edges + 0.005)[:-1]\n",
    "qubit_entropy_distribution = {}\n",
    "\n",
    "dim_sys2_array = [2,4,10,14]\n",
    "\n",
    "for dim_sys2 in dim_sys2_array:\n",
    "    entropies_temp = np.zeros(n_random_states)\n",
    "\n",
    "    for i in range(n_random_states):\n",
    "        psi = random_pure_state(dim_sys1*dim_sys2)\n",
    "        rho = vec_to_dm(psi)\n",
    "        rho_reduced = partial_trace(rho, dim = [dim_sys1, dim_sys2])\n",
    "        entropies_temp[i] = entropy(rho_reduced)\n",
    "        \n",
    "        qubit_entropy_distribution[dim_sys2] = np.histogram(entropies_temp, bins = bin_edges, density = True)[0]"
   ]
  },
  {
   "cell_type": "code",
   "execution_count": 190,
   "metadata": {},
   "outputs": [
    {
     "data": {
      "text/plain": [
       "Text(0,0.5,'Probability density')"
      ]
     },
     "execution_count": 190,
     "metadata": {},
     "output_type": "execute_result"
    },
    {
     "data": {
      "image/png": "[encoded data removed]",
      "text/plain": [
       "<Figure size 432x288 with 1 Axes>"
      ]
     },
     "metadata": {},
     "output_type": "display_data"
    }
   ],
   "source": [
    "for j in dim_sys2_array:\n",
    "    plt.plot(bin_centers,qubit_entropy_distribution[j], label = 'N = {}'.format(j))\n",
    "plt.legend(loc = 2)\n",
    "plt.title('Qubit entangled with N-dimensional system')\n",
    "plt.xlabel('Entanglement entropy')\n",
    "plt.ylabel('Probability density')"
   ]
  },
  {
   "cell_type": "markdown",
   "metadata": {},
   "source": [
    "This looks more or less as expected, except I would have expected it to be monotonically increasing.  Not sure what is responsible for this downturn at the end. "
   ]
  },
  {
   "cell_type": "markdown",
   "metadata": {},
   "source": [
    "### 6.  A Haar-random pure state is almost maximally entangled with respect to any bipartition\n",
    "\n",
    "Take any random pure state of a Hilbert space of dimension $d$, and subdivide that Hilbert space into two subspaces of dimension $d_1$ and $d_2$ such that $d_1 d_2 = d$.  No matter how you choose to partition the subspace, it turns out that the pure state you've sampled is likely to be nearly maximally entangled.  \n",
    "\n",
    "Here, we will specialize to $2n$-qubit Hilbert spaces, and to *balanced* bipartitions, that is, partitions into two equal $n$-qubit Hilbert spaces.  "
   ]
  },
  {
   "cell_type": "code",
   "execution_count": 327,
   "metadata": {},
   "outputs": [],
   "source": [
    "n_qubits = 4\n",
    "\n",
    "psi = random_pure_state(dim = 2**(2*n_qubits))"
   ]
  },
  {
   "cell_type": "markdown",
   "metadata": {},
   "source": [
    "Now that we've generated the state, let's evaluate the entropy with respect to randomly chosen bipartitions.  There should be a way to enumerate all the bipartitions of a given set, but at the moment I'm not able to think of it, so for now we'll just randomly generate bipartitions by choosing $n$ qubits to keep from the set of $2n$.  This can be done with numpy's random.choice method.  "
   ]
  },
  {
   "cell_type": "code",
   "execution_count": 328,
   "metadata": {},
   "outputs": [],
   "source": [
    "qubits_to_keep = sorted(np.random.choice(range(2*n_qubits), size = n_qubits, replace = False))"
   ]
  },
  {
   "cell_type": "markdown",
   "metadata": {},
   "source": [
    "Then, since our partial trace method likes the systems to be grouped such that we can just trace out one side, we swap the states such that the states of the qubits in 'qubits_to_keep' end up on the 'left', and the states of the other qubits end up on the 'right'.  "
   ]
  },
  {
   "cell_type": "code",
   "execution_count": 329,
   "metadata": {},
   "outputs": [],
   "source": [
    "def entropy_of_subsystem(psi, n_qubits, qubits_to_keep):\n",
    "    psi_tensor = np.array(psi).reshape(tuple([2]*2*n_qubits))\n",
    "    for i in range(n_qubits):\n",
    "        psi_tensor = np.swapaxes(psi_tensor, i, qubits_to_keep[i])\n",
    "    psi_tensor = psi_tensor.reshape(2**(2*n_qubits))\n",
    "\n",
    "    rho_total = vec_to_dm(psi_tensor)\n",
    "    rho_reduced = partial_trace(rho_total, 1, dim = [[2**n_qubits, 2**n_qubits], [2**n_qubits, 2**n_qubits]])\n",
    "    return entropy(rho_reduced)"
   ]
  },
  {
   "cell_type": "markdown",
   "metadata": {},
   "source": [
    "Now we can use this method to verify the statement for different bipartitions.  Remember for an $n$-qubit density matrix, the maximum entropy is simply given by (using $2$ as the base of the logarithm) $n$."
   ]
  },
  {
   "cell_type": "code",
   "execution_count": 332,
   "metadata": {},
   "outputs": [
    {
     "name": "stdout",
     "output_type": "stream",
     "text": [
      "Keeping qubits [1, 4, 5, 7]\n",
      "Resulting entropy: 3.32\n",
      "Keeping qubits [0, 2, 6, 7]\n",
      "Resulting entropy: 3.22\n",
      "Keeping qubits [0, 4, 5, 6]\n",
      "Resulting entropy: 3.25\n",
      "Keeping qubits [2, 3, 6, 7]\n",
      "Resulting entropy: 3.27\n",
      "Keeping qubits [1, 4, 5, 6]\n",
      "Resulting entropy: 3.30\n",
      "Keeping qubits [0, 4, 5, 6]\n",
      "Resulting entropy: 3.25\n",
      "Keeping qubits [0, 3, 4, 5]\n",
      "Resulting entropy: 3.28\n",
      "Keeping qubits [2, 3, 6, 7]\n",
      "Resulting entropy: 3.27\n",
      "Keeping qubits [2, 3, 6, 7]\n",
      "Resulting entropy: 3.27\n",
      "Keeping qubits [0, 1, 4, 5]\n",
      "Resulting entropy: 3.27\n",
      "Keeping qubits [0, 3, 4, 5]\n",
      "Resulting entropy: 3.28\n",
      "Keeping qubits [0, 1, 4, 5]\n",
      "Resulting entropy: 3.27\n",
      "Keeping qubits [0, 1, 5, 7]\n",
      "Resulting entropy: 3.34\n",
      "Keeping qubits [0, 3, 4, 5]\n",
      "Resulting entropy: 3.28\n",
      "Keeping qubits [1, 2, 3, 4]\n",
      "Resulting entropy: 3.32\n",
      "Keeping qubits [3, 4, 6, 7]\n",
      "Resulting entropy: 3.29\n",
      "Keeping qubits [1, 3, 5, 6]\n",
      "Resulting entropy: 3.29\n",
      "Keeping qubits [0, 1, 2, 5]\n",
      "Resulting entropy: 3.29\n",
      "Keeping qubits [1, 4, 6, 7]\n",
      "Resulting entropy: 3.33\n",
      "Keeping qubits [1, 2, 4, 6]\n",
      "Resulting entropy: 3.32\n"
     ]
    }
   ],
   "source": [
    "n_realizations = 20\n",
    "\n",
    "psi = random_pure_state(dim = 2**(2*n_qubits))\n",
    "\n",
    "for _ in range(n_realizations):\n",
    "    qubits_to_keep = sorted(np.random.choice(range(2*n_qubits), size = n_qubits, replace = False))\n",
    "    print('Keeping qubits {}'.format(qubits_to_keep))\n",
    "    print('Resulting entropy: {:.2f}'.format(entropy_of_subsystem(psi, n_qubits, qubits_to_keep)))"
   ]
  },
  {
   "cell_type": "markdown",
   "metadata": {},
   "source": [
    "### 7. Most Haar-random pure states too highly entangled to be useful in measurement-based quantum computation\n",
    "#### (What we will actually explore: in a high-dimensional complex space, most normalized vectors are very nearly orthogonal)\n",
    "In measurement-based quantum computing, a classical computer is given the ability to perform measurements on a pure quantum state of a composite Hilbert space.  It turns out that the measurement-based model of quantum computing is computationally universal, in the sense that certain states enable a classical computer to efficiently solve any problem in the complexity class BQP.  A natural guess as to what feature of these quantum states allow for the computational speedup is *entanglement*.  However, as shown in a 2008 paper, this is *not* the case.  \n",
    "\n",
    "The title of the paper says it succinctly: [Most quantum states are too entangled to be useful as computational resources](https://arxiv.org/pdf/0810.4331.pdf).\n",
    "\n",
    "In the paper, instead of using entanglement entropy as a measure of entanglement, they use a different measure called the [Geometric measure of entanglement](https://en.wikipedia.org/wiki/Geometric_measure_of_entanglement) $E _ { g } ( | \\Psi \\rangle )$, defined as follows:\n",
    "\n",
    "\\begin{equation}\n",
    "E _ { g } ( | \\Psi \\rangle ) = - \\log _ { 2 } \\sup _ { \\alpha \\in \\mathcal { P } } | \\langle \\alpha | \\Psi \\rangle | ^ { 2 }\n",
    "\\end{equation}\n",
    "\n",
    "here, $\\mathcal{P}$ is the set of all *product* states.  Essentially, we're finding the maximum overlap that any product state can have with the state of interest.\n",
    "\n",
    "The paper above proves that if a family of states $\\{ | \\Psi_n\\rangle \\}$ **cannot** provide a super-polynomial speedup over classical algorithms if its entanglement measure takes the form $E _ { g } ( | \\Psi _ { n } \\rangle ) = n - O \\left( \\log _ { 2 } ( n ) \\right)$.  We won't go over the proof here; it is theorem 1 in the paper.  \n",
    "\n",
    "Theorem 2 proves that *most* Haar-random states in fact do have at least this value of the geometric measure of entanglement.  For random pure states on $n$ qubits where $n > 11$, the fraction of states which have *less* entanglement than this (i.e. the fraction of states which are potentially computationally useful) scales as $\\exp{(-n^2)}$.  We won't prove theorem 2 here either.  The proof in the paper does rely on one result which we will explore, though, and it's of a different flavor than the previous properties we've discussed.  Namely, it concerns the overlap of a Haar-random pure state with an arbitrary quantum state.  \n",
    "\n",
    "Specifically, given a $d$-dimensional Hilbert space and a particular quantum state $|\\Phi\\rangle$, we draw $|\\Psi\\rangle$ from the Haar measure.  Then, it turns out that their overlap is quite small:\n",
    "\\begin{equation}\n",
    "\\operatorname { Prob } \\left\\{ | \\langle \\Phi | \\Psi \\rangle | ^ { 2 } \\geq \\varepsilon \\right\\} < \\exp ( - (d - 1 ) \\varepsilon )\n",
    "\\end{equation}\n",
    "(Note in the paper they write $2d$ instead of $d$; that's because they call $d$ the dimension of the complex vector, not the Hilbert space).  This is what we wrote in the subheading above:  in a high-dimensional complex space, most normalized vectors are nearly orthogonal.  \n",
    "\n",
    "Let's numerically explore this inequality:"
   ]
  },
  {
   "cell_type": "code",
   "execution_count": 265,
   "metadata": {},
   "outputs": [],
   "source": [
    "d = 20\n",
    "\n",
    "# Without loss of generality, let us take Phi to be the vector with a single unit entry\n",
    "Psi = np.zeros(d)\n",
    "Psi[0] = 1\n",
    "\n",
    "n_realizations = 10000\n",
    "overlaps = np.empty((n_realizations,))\n",
    "\n",
    "for i in range(n_realizations):\n",
    "    # Now we generate Psi\n",
    "    Phi = random_pure_state(dim = d)\n",
    "    overlap = np.power(np.abs(np.dot(Psi,Phi)),2)\n",
    "    overlaps[i] = overlap\n",
    "    \n",
    "# Now we numerically evaluate the probability density function of the overlap    \n",
    "pdf_overlap, bins = np.histogram(overlaps, bins = 100, range = [0,1], density = True)\n",
    "\n",
    "# Since the inequality concerns the integral of the pdf from epsilon to unity, we calculate that now\n",
    "# we call it a cdf, though it's not really a cumulative distribution function\n",
    "cdf_overlap = np.array([sum(pdf_overlap[i:]) for i in range(len(pdf_overlap))])/len(bins)"
   ]
  },
  {
   "cell_type": "code",
   "execution_count": 266,
   "metadata": {},
   "outputs": [
    {
     "data": {
      "image/png": "[encoded data removed]",
      "text/plain": [
       "<Figure size 720x360 with 2 Axes>"
      ]
     },
     "metadata": {},
     "output_type": "display_data"
    }
   ],
   "source": [
    "plt.figure(figsize = (10,5))\n",
    "plt.subplot(1,2,1)\n",
    "plt.plot(bins[:-1], pdf_overlap)\n",
    "plt.xlabel('Overlap  $| <\\Psi | \\Phi> |^2$')\n",
    "plt.ylabel('Frequency')\n",
    "plt.title('Histogram of Overlap')\n",
    "\n",
    "plt.subplot(1,2,2)\n",
    "plt.plot(bins[:-1], cdf_overlap, label = 'Numerical')\n",
    "plt.xlabel('$\\epsilon$')\n",
    "plt.ylabel('Probability $| <\\Psi | \\Phi> |^2 > \\epsilon$ ')\n",
    "plt.title('Demonstration of Inequality')\n",
    "eps = np.linspace(0,1,100)\n",
    "P = np.exp(-(d-1)*eps)\n",
    "plt.plot(eps, P, label = 'Analytic bound');\n",
    "plt.fill_between(eps, 0, P, facecolor = 'orange')\n",
    "plt.xlim(0,0.5)\n",
    "plt.legend(loc = 1);\n"
   ]
  },
  {
   "cell_type": "markdown",
   "metadata": {},
   "source": [
    "Play with the above code block, setting $d$, the Hilbert space dimension, to various values, and see what happens.  You should see that the inequality becomes tighter and tighter as $d$ grows.  For $d$ around 20 or so, it seems to basically be an equality.  \n",
    "\n",
    "So, we have seen that two randomly drawn vectors in a high-dimensional Hilbert space will in general have very small overlap, and as the dimension grows, will become effectively orthogonal.  As mentioned above, this fact is used in the proof that most pure states in high-dimensional Hilbert spaces are too entangled to provide quantum speedups in measurement-based quantum computation."
   ]
  },
  {
   "cell_type": "markdown",
   "metadata": {},
   "source": [
    "## Helper functions"
   ]
  },
  {
   "cell_type": "code",
   "execution_count": 334,
   "metadata": {},
   "outputs": [],
   "source": [
    "import itertools\n",
    "\n",
    "def vec_to_dm(vec):\n",
    "    \"\"\"Perform the outer product on a vector and return a density matrix\"\"\"\n",
    "    if 1 in np.shape(vec) or len(np.shape(vec))==1:\n",
    "        if type(vec) == list:\n",
    "            dm = np.dot(np.array(vec).reshape(-1, 1), np.conjugate(np.array(vec).reshape(1, -1)))\n",
    "            return dm\n",
    "        else:\n",
    "            dm = np.dot(vec.reshape(-1, 1), np.conjugate(vec.reshape(1, -1)))\n",
    "            return dm\n",
    "    return vec\n",
    "\n",
    "def random_pure_state(dim = 2):\n",
    "    \"\"\"Samples from a random pure state using the method described in the main text,\n",
    "    i.e. by sampling independent Gaussian components and then normalizing them\"\"\"\n",
    "    x = np.random.randn(2*dim)\n",
    "    norm_x = np.linalg.norm(x, ord = 2)\n",
    "    normalized_x = x/norm_x\n",
    "    \n",
    "    return np.matrix(normalized_x[:dim] + 1j*normalized_x[dim:]).T\n",
    "\n",
    "def partial_trace(dm, k=1, dim=None):\n",
    "    \"\"\"This was largely taken from https://github.com/gsagnol/picos with minor changes.\n",
    "    Performs a partial trace of the density matrix, tracing out system 'k', \n",
    "    \n",
    "    Dim is an array containing the dimensions of each system.  For a 2-qubit system, the 'dim'\n",
    "    argument is \n",
    "    dim = [[2,2],[2,2]]\n",
    "    For a 2-qutrit system, it would be\n",
    "    dim = [[3, 3], [3, 3]]\"\"\"\n",
    "    sz = dm.shape\n",
    "    if dim is None:\n",
    "        if sz[0] == sz[1] and (sz[0] ** 0.5) == int(sz[0] ** 0.5) and (sz[1] ** 0.5) == int(sz[1] ** 0.5):\n",
    "            dim = (int(sz[0] ** 0.5), int(sz[1] ** 0.5))\n",
    "        else:\n",
    "            raise ValueError('The default parameter dim=None assumes X is a n**2 x n**2 matrix')\n",
    "\n",
    "    # checks if dim is a list (or tuple) of lists (or tuples) of two integers each\n",
    "    T = [list, tuple]\n",
    "    if type(dim) in T and all([type(d) in T and len(d) == 2 for d in dim]) and all(\n",
    "            [type(n) is int for d in dim for n in d]):\n",
    "        dim = [d for d in zip(*dim)]\n",
    "        pdim = np.product(dim[0]), np.product(dim[1])\n",
    "\n",
    "    # if dim is a single list of integers we assume that no subsystem is rectangular\n",
    "    elif type(dim) in [list, tuple] and all([type(n) is int for n in dim]):\n",
    "        pdim = np.product(dim), np.product(dim)\n",
    "        dim = (dim, dim)\n",
    "    else:\n",
    "        raise ValueError('Wrong dim variable')\n",
    "\n",
    "    if len(dim[0]) != len(dim[1]):\n",
    "        raise ValueError('Inconsistent number of subsystems, fix dim variable')\n",
    "\n",
    "    if pdim[0] != sz[0] or pdim[1] != sz[1]:\n",
    "        print(pdim, sz)\n",
    "        raise ValueError('The product of the sub-dimensions does not match the size of X')\n",
    "\n",
    "    if k > len(dim[0]) - 1:\n",
    "        raise Exception('There is no k-th subsystem, fix k or dim variable')\n",
    "\n",
    "    if dim[0][k] != dim[1][k]:\n",
    "        raise ValueError('The dimensions of the subsystem to trace over don\\'t match')\n",
    "\n",
    "    dim_reduced = [list(d) for d in dim]\n",
    "    del dim_reduced[0][k]\n",
    "    del dim_reduced[1][k]\n",
    "    dim_reduced = tuple(tuple(d) for d in dim_reduced)\n",
    "    pdimred = tuple([np.product(d) for d in dim_reduced])\n",
    "\n",
    "    fact = np.zeros((np.product(pdimred), np.product(pdim)), dtype='complex')\n",
    "\n",
    "    for iii in itertools.product(*[range(i) for i in dim_reduced[0]]):\n",
    "        for jjj in itertools.product(*[range(j) for j in dim_reduced[1]]):\n",
    "            # element iii,jjj of the partial trace\n",
    "\n",
    "            row = int(sum([iii[j] * np.product(dim_reduced[0][j + 1:]) for j in range(len(dim_reduced[0]))]))\n",
    "            col = int(sum([jjj[j] * np.product(dim_reduced[1][j + 1:]) for j in range(len(dim_reduced[1]))]))\n",
    "            # this corresponds to the element row,col in the matrix basis\n",
    "            rowij = col * pdimred[0] + row\n",
    "            # this corresponds to the elem rowij in vectorized form\n",
    "\n",
    "            # computes the partial trace for iii,jjj\n",
    "            for l in range(dim[0][k]):\n",
    "                iili = list(iii)\n",
    "                iili.insert(k, l)\n",
    "                iili = tuple(iili)\n",
    "\n",
    "                jjlj = list(jjj)\n",
    "                jjlj.insert(k, l)\n",
    "                jjlj = tuple(jjlj)\n",
    "\n",
    "                row_l = int(sum([iili[j] * np.product(dim[0][j + 1:]) for j in range(len(dim[0]))]))\n",
    "                col_l = int(sum([jjlj[j] * np.product(dim[1][j + 1:]) for j in range(len(dim[1]))]))\n",
    "\n",
    "                colij_l = col_l * pdim[0] + row_l\n",
    "                fact[int(rowij), int(colij_l)] = 1\n",
    "\n",
    "    return np.dot(dm.reshape(-1), fact.T).reshape(pdimred[0], pdimred[1])\n",
    "\n",
    "def entropy(dm):\n",
    "    \"\"\"Calculate the von neuumann entropy, using '2' as the base of the logarithm\"\"\"\n",
    "    dm = np.matrix(vec_to_dm(dm), dtype='complex')\n",
    "\n",
    "    e_vals = np.linalg.eigvals(dm)\n",
    "    e_vals = e_vals[np.logical_not(np.isclose(e_vals, 0))]\n",
    "\n",
    "    return float(np.real(np.sum(-e_vals * np.log2(e_vals))))\n",
    "\n",
    "def dm_to_r(dm):\n",
    "    \"\"\" converts a single-qubit density matrix into a single scalar, r, representing\n",
    "    the length of the corresponding Bloch vector \"\"\"\n",
    "    \n",
    "    tr = np.trace(dm)\n",
    "    dmsquared = np.dot(dm, dm)/(tr*tr)\n",
    "    r = np.sqrt(2*np.trace(dmsquared)-1)\n",
    "    return np.real(r)\n"
   ]
  },
  {
   "cell_type": "code",
   "execution_count": null,
   "metadata": {},
   "outputs": [],
   "source": []
  }
 ],
 "metadata": {
  "kernelspec": {
   "display_name": "Python 3",
   "language": "python",
   "name": "python3"
  },
  "language_info": {
   "codemirror_mode": {
    "name": "ipython",
    "version": 3
   },
   "file_extension": ".py",
   "mimetype": "text/x-python",
   "name": "python",
   "nbconvert_exporter": "python",
   "pygments_lexer": "ipython3",
   "version": "3.6.4"
  }
 },
 "nbformat": 4,
 "nbformat_minor": 2
}
