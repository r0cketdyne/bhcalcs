{
 "cells": [
  {
   "cell_type": "code",
   "execution_count": 1,
   "metadata": {},
   "outputs": [
    {
     "name": "stderr",
     "output_type": "stream",
     "text": [
      "/anaconda3/lib/python3.6/site-packages/h5py/__init__.py:36: FutureWarning: Conversion of the second argument of issubdtype from `float` to `np.floating` is deprecated. In future, it will be treated as `np.float64 == np.dtype(float).type`.\n",
      "  from ._conv import register_converters as _register_converters\n"
     ]
    }
   ],
   "source": [
    "import numpy as np\n",
    "from scipy.linalg import expm\n",
    "\n",
    "from functools import reduce\n",
    "\n",
    "from qnl_projects.BHDecoder import qutrit_utils as qutils\n",
    "from qnl_analysis import SimTools as ST\n",
    "\n",
    "import matplotlib.pyplot as plt\n",
    "%matplotlib inline"
   ]
  },
  {
   "cell_type": "code",
   "execution_count": 2,
   "metadata": {},
   "outputs": [],
   "source": [
    "def transformation_matrix(alpha_11, alpha_12, alpha_21, alpha_22):\n",
    "    \"\"\" Returns the matrix representing the transformation between the times which each state spends in its \n",
    "    other states, and the phases attached to the states\"\"\"\n",
    "    \n",
    "    mat = np.matrix([[alpha_11, alpha_21, alpha_22, alpha_12],\n",
    "                    [alpha_12, alpha_22, alpha_21, alpha_11],\n",
    "                    [alpha_21, alpha_11, alpha_12, alpha_22],\n",
    "                    [alpha_22, alpha_12, alpha_11, alpha_21]])\n",
    "\n",
    "    return 2*np.pi*mat"
   ]
  },
  {
   "cell_type": "code",
   "execution_count": 50,
   "metadata": {},
   "outputs": [],
   "source": [
    "Q0Q1_mat = transformation_matrix(alpha_11 = 0.27935, alpha_12 = -0.1599, alpha_21 = 0.52793, alpha_22 = 0.742967)"
   ]
  },
  {
   "cell_type": "code",
   "execution_count": 65,
   "metadata": {},
   "outputs": [],
   "source": [
    "desired_phases = np.array([4*np.pi/3, 2*np.pi/3, 2*np.pi/3, 4*np.pi/3]) - 1*np.pi/180 * np.array([7.71877192, 2.88341957, 14.14030397, 15.30742407])"
   ]
  },
  {
   "cell_type": "code",
   "execution_count": 66,
   "metadata": {},
   "outputs": [],
   "source": [
    "def possible_times(matrix_to_solve, desired_phases):\n",
    "    for m1 in range(-10, 10):\n",
    "        for m2 in range(-10, 10):\n",
    "            for m3 in range(-10, 10):\n",
    "                for m4 in range(-10, 10):\n",
    "                    times = np.linalg.solve(matrix_to_solve, desired_phases+2*np.pi*np.array([m1, m2, m3, m4]))\n",
    "                    if np.all(times > 0):\n",
    "                        if np.sum(times) < 2:\n",
    "                            print(times)"
   ]
  },
  {
   "cell_type": "code",
   "execution_count": 67,
   "metadata": {
    "scrolled": false
   },
   "outputs": [
    {
     "name": "stdout",
     "output_type": "stream",
     "text": [
      "[0.56525053 0.09126357 0.61070513 0.09125475]\n"
     ]
    }
   ],
   "source": [
    "possible_times(Q0Q1_mat, desired_phases)"
   ]
  },
  {
   "cell_type": "markdown",
   "metadata": {},
   "source": [
    "## Compensating for the phases acquired during Hadamard evolution"
   ]
  },
  {
   "cell_type": "markdown",
   "metadata": {},
   "source": [
    "During the 80 ns the Hadamard takes (four 20 ns pulses each), we must get some phase evolution.  Let's see what the phases are, and if we can decompile them away."
   ]
  },
  {
   "cell_type": "code",
   "execution_count": 54,
   "metadata": {},
   "outputs": [],
   "source": [
    "alpha_11 = -0.27935 * 2*np.pi\n",
    "alpha_12 = 0.1599 * 2*np.pi\n",
    "alpha_21 = -0.52793 * 2*np.pi\n",
    "alpha_22 = -0.742967 * 2*np.pi\n",
    "\n",
    "H_zz = np.diag([0,0,0,0,alpha_11, alpha_12, 0, alpha_21, alpha_22])"
   ]
  },
  {
   "cell_type": "code",
   "execution_count": 55,
   "metadata": {},
   "outputs": [],
   "source": [
    "Omega = 12.5*np.pi\n",
    "\n",
    "H_X = Omega*np.array([[0,1,0],\n",
    "                      [1,0,0],\n",
    "                      [0,0,1]])\n",
    "\n",
    "H_X_2q = np.kron(np.eye(3), H_X)"
   ]
  },
  {
   "cell_type": "code",
   "execution_count": 56,
   "metadata": {},
   "outputs": [],
   "source": [
    "UX_2q = expm(1j*(H_X_2q + H_zz)*0.02)"
   ]
  },
  {
   "cell_type": "code",
   "execution_count": 57,
   "metadata": {},
   "outputs": [],
   "source": [
    "qutrit_Hadamard_seq = qutils.qutrit_replacements['Hadamard'][1][0]"
   ]
  },
  {
   "cell_type": "code",
   "execution_count": 58,
   "metadata": {},
   "outputs": [
    {
     "data": {
      "text/plain": [
       "[['EFY-90'],\n",
       " ['X90'],\n",
       " ['Z-109.471'],\n",
       " ['EFZ54.7355'],\n",
       " ['X-90'],\n",
       " ['Z180'],\n",
       " ['EFZ-90'],\n",
       " ['EFY90']]"
      ]
     },
     "execution_count": 58,
     "metadata": {},
     "output_type": "execute_result"
    }
   ],
   "source": [
    "qutrit_Hadamard_seq"
   ]
  },
  {
   "cell_type": "code",
   "execution_count": null,
   "metadata": {},
   "outputs": [],
   "source": [
    "Omega = 12.5 * np.pi # this is how we get a 20 ns pulse\n",
    "\n",
    "HYEF = Omega * np.array([[0,0,0],[0,0,-1j],[0,1j,0]])\n",
    "HX = Omega * np.array([[0,1,0], [1,0,0], [0,0,0]])\n",
    "Id = np.eye(3)\n",
    "\n",
    "pulse_time = 0.02 # in us, so 20 nanoseconds\n",
    "\n",
    "HYEF_2q = np.kron(HYEF, Id)\n",
    "HX_2q = np.kron(HX, Id)\n",
    "\n",
    "UYEF = expm(-1j*pulse_time*(HYEF))\n",
    "UYEF_m = expm(1j*pulse_time*(HYEF))\n",
    "UX = expm(-1j*pulse_time*HX)\n",
    "UX_m = expm(1j*pulse_time*HX)\n",
    "\n",
    "UYEF_2q = expm(-1j*pulse_time*(HYEF_2q + H_zz))\n",
    "UYEF_m_2q = expm(1j*pulse_time*(HYEF_2q + H_zz))\n",
    "UX_2q = expm(-1j*pulse_time*(HX_2q + H_zz))\n",
    "UX_m_2q = expm(1j*pulse_time*(HX_2q + H_zz))\n",
    "\n",
    "Z1 = qutils.resulting_unitary([['Z-109.471']])\n",
    "Z2 = qutils.resulting_unitary([['EFZ54.7355']])\n",
    "Z3 = qutils.resulting_unitary([['Z180']])\n",
    "Z4 = qutils.resulting_unitary([['EFZ-90']])\n",
    "\n",
    "Z1_2q = np.kron(Z1, Id)\n",
    "Z2_2q = np.kron(Z2, Id)\n",
    "Z3_2q = np.kron(Z3, Id)\n",
    "Z4_2q = np.kron(Z4, Id)\n",
    "\n",
    "Hadamard_ideal = reduce(np.dot, reversed([UYEF_m, UX, Z1, Z2, UX_m, Z3, Z4, UYEF]))\n",
    "Hadamard_ideal = Hadamard_ideal*np.exp(-1j*np.angle(Hadamard_ideal[0,0]))\n",
    "Hadamard_ideal = np.kron(Hadamard_ideal, Id)\n",
    "\n",
    "Hadamard_real = reduce(np.dot, reversed([UYEF_m_2q, UX_2q, Z1_2q, Z2_2q, UX_m_2q, Z3_2q, Z4_2q, UYEF_2q]))\n",
    "Hadamard_real = Hadamard_real*np.exp(-1j*np.angle(Hadamard_real[0,0]))"
   ]
  },
  {
   "cell_type": "code",
   "execution_count": null,
   "metadata": {},
   "outputs": [],
   "source": [
    "Hadamard_real"
   ]
  },
  {
   "cell_type": "code",
   "execution_count": 78,
   "metadata": {},
   "outputs": [],
   "source": [
    "rho_init = np.array([[0,0,0,0,0,0,0,0,0],\n",
    "                     [0,0,0,0,0,0,0,0,0],\n",
    "                     [0,0,0,0,0,0,0,0,0],\n",
    "                     [0,0,0,0,0,0,0,0,0],\n",
    "                     [0,0,0,0,0,0,0,0,0],\n",
    "                     [0,0,0,0,0,0,0,0,0],\n",
    "                     [0,0,0,0,0,0,0,0,0],\n",
    "                     [0,0,0,0,0,0,0,0,0],\n",
    "                     [0,0,0,0,0,0,0,0,1],])"
   ]
  },
  {
   "cell_type": "code",
   "execution_count": 79,
   "metadata": {},
   "outputs": [
    {
     "data": {
      "image/png": "[encoded data removed]",
      "text/plain": [
       "<Figure size 576x576 with 1 Axes>"
      ]
     },
     "execution_count": 79,
     "metadata": {},
     "output_type": "execute_result"
    },
    {
     "data": {
      "image/png": "[encoded data removed]",
      "text/plain": [
       "<Figure size 576x576 with 1 Axes>"
      ]
     },
     "metadata": {},
     "output_type": "display_data"
    }
   ],
   "source": [
    "ST.plot_dm(reduce(np.dot, [Hadamard_ideal, rho_init, np.conj(Hadamard_ideal.T)]))"
   ]
  },
  {
   "cell_type": "code",
   "execution_count": 78,
   "metadata": {},
   "outputs": [
    {
     "name": "stdout",
     "output_type": "stream",
     "text": [
      "[[ 0.000e+00  0.000e+00  0.000e+00  0.000e+00  0.000e+00  0.000e+00\n",
      "   0.000e+00  0.000e+00  0.000e+00]\n",
      " [ 0.000e+00  0.000e+00  0.000e+00  0.000e+00  1.800e+02 -0.000e+00\n",
      "   0.000e+00  1.800e+02 -0.000e+00]\n",
      " [ 0.000e+00  0.000e+00  0.000e+00  0.000e+00 -0.000e+00  1.800e+02\n",
      "   0.000e+00 -0.000e+00  1.800e+02]\n",
      " [ 0.000e+00  0.000e+00  0.000e+00 -9.000e-03  1.163e+00 -8.500e-01\n",
      "   0.000e+00  0.000e+00  0.000e+00]\n",
      " [ 0.000e+00  1.800e+02 -0.000e+00 -1.163e+00 -1.100e-02 -2.011e+00\n",
      "   0.000e+00  1.800e+02 -0.000e+00]\n",
      " [ 0.000e+00 -0.000e+00  1.800e+02  8.500e-01  2.015e+00  1.500e-02\n",
      "   0.000e+00 -0.000e+00  1.800e+02]\n",
      " [ 0.000e+00  0.000e+00  0.000e+00  0.000e+00  0.000e+00  0.000e+00\n",
      "  -3.100e-02  1.170e+00  2.156e+00]\n",
      " [ 0.000e+00  1.800e+02 -0.000e+00  0.000e+00  1.800e+02 -0.000e+00\n",
      "  -1.170e+00  5.000e-03  9.930e-01]\n",
      " [ 0.000e+00 -0.000e+00  1.800e+02  0.000e+00 -0.000e+00  1.800e+02\n",
      "  -2.156e+00 -9.780e-01  1.100e-02]]\n"
     ]
    }
   ],
   "source": [
    "print(np.round((np.angle(Hadamard_ideal) - np.angle(Hadamard_real))*(180/np.pi), 3))"
   ]
  },
  {
   "cell_type": "code",
   "execution_count": 59,
   "metadata": {},
   "outputs": [
    {
     "name": "stdout",
     "output_type": "stream",
     "text": [
      "[[ 0.57735027+0.j   0.57735027+0.j   0.57735027+0.j ]\n",
      " [ 0.57735027+0.j  -0.28867513+0.5j -0.28867513-0.5j]\n",
      " [ 0.57735027+0.j  -0.28867513-0.5j -0.28867513+0.5j]]\n"
     ]
    }
   ],
   "source": [
    "print(qutils.qutrit_mapping['Hadamard'])"
   ]
  },
  {
   "cell_type": "code",
   "execution_count": 81,
   "metadata": {},
   "outputs": [
    {
     "name": "stdout",
     "output_type": "stream",
     "text": [
      "[[   0.            0.            0.            0.            0.\n",
      "     0.            0.            0.            0.        ]\n",
      " [   0.            0.          180.            0.            0.\n",
      "     0.            0.            0.            0.        ]\n",
      " [   0.            0.            0.            0.            0.\n",
      "     0.            0.            0.            0.        ]\n",
      " [   0.            0.            0.            0.            0.\n",
      "     0.            0.            0.            0.        ]\n",
      " [   0.            0.            0.            0.            2.44327455\n",
      "  -179.56998       0.            0.            0.        ]\n",
      " [   0.            0.            0.            0.            0.43002\n",
      "    -1.58323455    0.            0.            0.        ]\n",
      " [   0.            0.            0.            0.            0.\n",
      "     0.            0.            0.            0.        ]\n",
      " [   0.            0.            0.            0.            0.\n",
      "     0.            0.            3.58958618 -175.4247708 ]\n",
      " [   0.            0.            0.            0.            0.\n",
      "     0.            0.            4.5752292     5.56087222]]\n"
     ]
    }
   ],
   "source": [
    "print(np.angle(UYEF_2q)*180/np.pi)"
   ]
  },
  {
   "cell_type": "code",
   "execution_count": 86,
   "metadata": {},
   "outputs": [
    {
     "data": {
      "text/plain": [
       "array([ 0.        ,  0.        ,  0.        ,  0.        ,  7.71877192,\n",
       "        2.88341957,  0.        , 14.14030397, 15.30742407])"
      ]
     },
     "execution_count": 86,
     "metadata": {},
     "output_type": "execute_result"
    }
   ],
   "source": [
    "HYEF_2q_q1 = np.kron(Id, HYEF)\n",
    "HYEF_2q_q0 = np.kron(HYEF, Id)\n",
    "\n",
    "UYEF_2q_q0 = expm(-1j*pulse_time*(HYEF_2q_q0 + H_zz))\n",
    "UYEF_m_2q_q0 = expm(-1j*pulse_time*(-HYEF_2q_q0 + H_zz))\n",
    "UYEF_2q_q1 = expm(-1j*pulse_time*(HYEF_2q_q1 + H_zz))\n",
    "UYEF_m_2q_q1 = expm(-1j*pulse_time*(-HYEF_2q_q1 + H_zz))\n",
    "\n",
    "\n",
    "np.angle(np.diag(reduce(np.dot, [UYEF_2q_q0, UYEF_2q_q1, UYEF_m_2q_q0, UYEF_m_2q_q1])))*180/np.pi"
   ]
  },
  {
   "cell_type": "markdown",
   "metadata": {},
   "source": [
    "## Compensating for the ZZ interaction with the neighboring qubit"
   ]
  },
  {
   "cell_type": "markdown",
   "metadata": {},
   "source": [
    "The two qutrits on which we do the ZZ-based CSUM gate will have an interaction with a neighboring qubit which is also ZZ-based.  Here we show that we can decouple this ZZ interaction simply by inserting pulses on the neighboring qubit."
   ]
  },
  {
   "cell_type": "code",
   "execution_count": 15,
   "metadata": {},
   "outputs": [],
   "source": [
    "X = np.array([[0,1,0],\n",
    "              [0,0,1],\n",
    "              [1,0,0]])\n",
    "\n",
    "Id = np.eye(3)\n",
    "\n",
    "XIdId = reduce(np.kron, [X, Id, Id])"
   ]
  },
  {
   "cell_type": "code",
   "execution_count": 66,
   "metadata": {},
   "outputs": [],
   "source": [
    "alpha_11 = np.random.randn()\n",
    "alpha_12 = np.random.randn()\n",
    "alpha_21 = np.random.randn()\n",
    "alpha_22 = np.random.randn()\n",
    "H_q0q1 = np.diag([0,0,0,0,alpha_11, alpha_12, 0, alpha_21, alpha_22])\n",
    "\n",
    "Zcorr = expm(1j*np.diag([0,delta_t*(alpha_11 + alpha_21), delta_t*(alpha_12 + alpha_22)]))\n",
    "IdZcorrId = reduce(np.kron, [Id, Zcorr, Id])\n",
    "\n",
    "beta_11 = np.random.randn()\n",
    "beta_12 = np.random.randn()\n",
    "beta_21 = np.random.randn()\n",
    "beta_22 = np.random.randn()\n",
    "H_q1q2 = np.diag([0,0,0,0,beta_11, beta_12, 0, beta_21, beta_22])\n",
    "\n",
    "delta_t = 1\n",
    "\n",
    "H_total = np.kron(H_q0q1, Id) + np.kron(Id, H_q1q2)"
   ]
  },
  {
   "cell_type": "code",
   "execution_count": 67,
   "metadata": {},
   "outputs": [],
   "source": [
    "U_total = expm(-1j*delta_t*H_total)"
   ]
  },
  {
   "cell_type": "code",
   "execution_count": 68,
   "metadata": {},
   "outputs": [
    {
     "data": {
      "text/plain": [
       "[<matplotlib.lines.Line2D at 0x11f480f28>]"
      ]
     },
     "execution_count": 68,
     "metadata": {},
     "output_type": "execute_result"
    },
    {
     "data": {
      "image/png": "[encoded data removed]",
      "text/plain": [
       "<Figure size 432x288 with 1 Axes>"
      ]
     },
     "metadata": {},
     "output_type": "display_data"
    }
   ],
   "source": [
    "U_real = reduce(np.dot, [IdZcorrId, U_total, XIdId, U_total, XIdId, U_total, XIdId])\n",
    "plt.plot(np.angle(np.diag(U_real)))"
   ]
  },
  {
   "cell_type": "code",
   "execution_count": 69,
   "metadata": {},
   "outputs": [
    {
     "data": {
      "text/plain": [
       "[<matplotlib.lines.Line2D at 0x11f4e3630>]"
      ]
     },
     "execution_count": 69,
     "metadata": {},
     "output_type": "execute_result"
    },
    {
     "data": {
      "image/png": "[encoded data removed]",
      "text/plain": [
       "<Figure size 432x288 with 1 Axes>"
      ]
     },
     "metadata": {},
     "output_type": "display_data"
    }
   ],
   "source": [
    "U_desired = np.kron(Id, expm(-1j*3*delta_t*H_q1q2))\n",
    "plt.plot(np.angle(np.diag(U_desired)))"
   ]
  },
  {
   "cell_type": "code",
   "execution_count": 70,
   "metadata": {},
   "outputs": [
    {
     "data": {
      "text/plain": [
       "<matplotlib.lines.Line2D at 0x11f490668>"
      ]
     },
     "execution_count": 70,
     "metadata": {},
     "output_type": "execute_result"
    },
    {
     "data": {
      "image/png": "[encoded data removed]",
      "text/plain": [
       "<Figure size 432x288 with 1 Axes>"
      ]
     },
     "metadata": {},
     "output_type": "display_data"
    }
   ],
   "source": [
    "plt.plot(np.angle(np.diag(U_desired)) - np.angle(np.diag(U_real)))\n",
    "plt.axvline(9, ls = '--')"
   ]
  },
  {
   "cell_type": "code",
   "execution_count": 37,
   "metadata": {},
   "outputs": [],
   "source": [
    "Zcorr = expm(1j*np.diag([0,delta_t*(alpha_11 + alpha_21), delta_t*(alpha_12 + alpha_22)]))"
   ]
  },
  {
   "cell_type": "code",
   "execution_count": 38,
   "metadata": {},
   "outputs": [],
   "source": [
    "IdZcorrId = reduce(np.kron, [Id, Zcorr, Id])"
   ]
  },
  {
   "cell_type": "code",
   "execution_count": 39,
   "metadata": {},
   "outputs": [
    {
     "data": {
      "text/plain": [
       "<matplotlib.lines.Line2D at 0x11e79e828>"
      ]
     },
     "execution_count": 39,
     "metadata": {},
     "output_type": "execute_result"
    },
    {
     "data": {
      "image/png": "[encoded data removed]",
      "text/plain": [
       "<Figure size 432x288 with 1 Axes>"
      ]
     },
     "metadata": {},
     "output_type": "display_data"
    }
   ],
   "source": [
    "plt.plot(np.angle(np.diag(IdZcorrId)))\n",
    "plt.axvline(9, ls = '--')"
   ]
  },
  {
   "cell_type": "code",
   "execution_count": null,
   "metadata": {},
   "outputs": [],
   "source": []
  }
 ],
 "metadata": {
  "kernelspec": {
   "display_name": "Python 3",
   "language": "python",
   "name": "python3"
  },
  "language_info": {
   "codemirror_mode": {
    "name": "ipython",
    "version": 3
   },
   "file_extension": ".py",
   "mimetype": "text/x-python",
   "name": "python",
   "nbconvert_exporter": "python",
   "pygments_lexer": "ipython3",
   "version": "3.6.4"
  }
 },
 "nbformat": 4,
 "nbformat_minor": 2
}
