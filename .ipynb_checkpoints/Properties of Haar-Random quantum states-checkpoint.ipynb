{
 "cells": [
  {
   "cell_type": "markdown",
   "metadata": {},
   "source": [
    "This notebook is intended for students/researchers in the field of quantum information to gain some familiarity with random quantum states.  The idea of a Haar-"
   ]
  },
  {
   "cell_type": "code",
   "execution_count": 30,
   "metadata": {},
   "outputs": [],
   "source": [
    "import numpy as np\n",
    "import matplotlib.pyplot as plt\n",
    "%matplotlib inline\n",
    "\n",
    "\n",
    "# import sys\n",
    "# sys.path.append('/Users/qnl/Documents/Vinay/QNL')\n",
    "\n",
    "# from qnl_ctrl.qnl_analysis import SimTools as ST\n",
    "\n",
    "# from importlib import reload"
   ]
  },
  {
   "cell_type": "markdown",
   "metadata": {},
   "source": [
    "## How do you sample a uniform (pure) quantum state on a Hilbert space of dimension n?"
   ]
  },
  {
   "cell_type": "markdown",
   "metadata": {},
   "source": [
    "Let's get intuition for this question by looking at the case where $n$ = 2.  A general qubit state is specified by four real numbers, \n",
    "\\begin{equation}\n",
    "|\\psi\\rangle = (x_0 + i y_0) |0\\rangle + (x_1 + i y_1) |1\\rangle\n",
    "\\end{equation}\n",
    "but subject to the normalization constraint $x_0^2 + x_1^2 + y_0^2 + y_1^2 = 1$, and with the caveat that states which differ by an overall phase are the same quantum state.  \n",
    "\n",
    "We want to specify a joint probability distribution for $x_0, x_1, y_0, y_1$ such that all pure states are equally likely.  Since any set of four numbers that satisfies normalization should be equally likely, we can just write \n",
    "\\begin{equation}\n",
    "p(x_0, y_0, x_1, y_1) = \\mathcal{N}\\delta(x_0^2 + x_1^2 + y_0^2 + y_1^2 - 1),\n",
    "\\end{equation}\n",
    "where $\\mathcal{N}$ is simply a normalization constant. This is true in higher dimensions as well.  But how do we sample from such a distribution?\n",
    "\n",
    "As you might expect, the way to understand this sampling is to exploit geometric intuition, and think of what you're doing as sampling uniformly from the surface of the unit-sphere of dimension $2N$ (where $N$ is the dimension of the Hibert space, NOT the number of qubits).  Note that sampling from this distribution is not trivial since the variables $x_0, x_1, y_0, y_1$ are not independent (because of the normalization constraint, i.e. the sphere must have radius unity).  However, it turns out there's a nice trick to sample from a sphere of arbitrary dimension $M$:  you just generate $M$ independent, normally-distributed random variables and then normalize.  \n",
    "\n",
    "It's probably worth spending a bit of time thinking through why this works, but numerically at least we can show that it works for the cases of $n = 2$ \n",
    "\n",
    "TODO: Implement 3D plotting to show that it also works for $n = 3$"
   ]
  },
  {
   "cell_type": "code",
   "execution_count": 3,
   "metadata": {},
   "outputs": [],
   "source": [
    "# Show that it works for n = 2\n",
    "\n",
    "def uniform_sphere_point(dimension = 2, num_points = 100):\n",
    "    \"\"\" Generates a uniformly-sampled point from the surface of a unit-sphere with the specified dimension \"\"\"\n",
    "    \n",
    "    initial_points = np.random.randn(dimension, num_points) # will not lie on the UNIT sphere, i.e. radius will be wrong\n",
    "    \n",
    "    # Normalize\n",
    "    radii = np.sqrt(np.sum(initial_points**2, axis = 0))\n",
    "    normalized_points = initial_points / radii\n",
    "    return normalized_points"
   ]
  },
  {
   "cell_type": "code",
   "execution_count": 4,
   "metadata": {},
   "outputs": [
    {
     "data": {
      "image/png": "[encoded data removed]",
      "text/plain": [
       "<Figure size 576x576 with 1 Axes>"
      ]
     },
     "metadata": {},
     "output_type": "display_data"
    }
   ],
   "source": [
    "plt.figure(figsize = (8,8))\n",
    "plt.scatter(*uniform_sphere_point())\n",
    "plt.axis('square');\n",
    "plt.title('Uniformly sampled points from 2-sphere with Gaussian method');"
   ]
  },
  {
   "cell_type": "markdown",
   "metadata": {},
   "source": [
    "We will use this method to generate random pure states for arbitrary-dimensioned systems"
   ]
  },
  {
   "cell_type": "markdown",
   "metadata": {},
   "source": [
    "## Property 1:  Uniform pure states on a bipartite system are almost always entangled"
   ]
  },
  {
   "cell_type": "markdown",
   "metadata": {},
   "source": [
    "It turns out that if you generate a pure state of a bipartite (say, N x K dimensional) system, the states are almost always entangled.  One way to think about this is to think about the dimension of the space.  As we discussed earlier, pure states of the N x K dimensional system occupy the surface of a sphere with (2 x N x K - 2) dimensions.  Pure states of the N dimensional system occupy a sphere of $(2N - 2)$ dimensions, while pure states of the K dimensional system occupy a sphere of $(2K - 2)$ dimensions.  That means that the dimension of the set of of pure states in the N x K dimensional space is the sum of the above two dimensions, i.e. 2N + 2K - 4.  This is (always?) less than the dimenion of the full Hilbert space, which we said above was 2NK - 2.  \n",
    "\n",
    "For example in the qubit-qubit case, where $N = K = 2$, the space of pure states is 4-dimensional, whereas the space of all states is 6-dimensional.  So if you uniformly sample from the 6-dimensional space, you'll almost never see a pure state. "
   ]
  },
  {
   "cell_type": "markdown",
   "metadata": {},
   "source": [
    "Let's do some numerics to investigate the entanglement entropy of a random qubit entangled with another system (i.e. a $2$ x $N$ dimensional) state, i.e. the entropy when you trace out the thing that's not the qubit."
   ]
  },
  {
   "cell_type": "code",
   "execution_count": 136,
   "metadata": {},
   "outputs": [],
   "source": [
    "n_states = 100\n",
    "dim_sys1 = 2\n",
    "dim_sys2 = 2\n",
    "entropies = np.zeros(n_states)\n",
    "\n",
    "for i in range(n_states):\n",
    "    psi = ST.random_pure_state(dim_sys1*dim_sys2)\n",
    "    rho = ST.vec_to_dm(psi)\n",
    "    rho_reduced = ST.partial_trace(rho, dim = [dim_sys1, dim_sys2])\n",
    "    entropies[i] = ST.entropy(rho_reduced)"
   ]
  },
  {
   "cell_type": "code",
   "execution_count": 137,
   "metadata": {},
   "outputs": [
    {
     "data": {
      "text/plain": [
       "(0.50918028039223051, 0.26521309715514269)"
      ]
     },
     "execution_count": 137,
     "metadata": {},
     "output_type": "execute_result"
    }
   ],
   "source": [
    "np.mean(entropies), np.std(entropies)"
   ]
  },
  {
   "cell_type": "code",
   "execution_count": 138,
   "metadata": {},
   "outputs": [],
   "source": [
    "def avg_entropy(dim_sys1, dim_sys2, n_states = 100):\n",
    "    \"\"\" returns the average entropy (averaged over n_states randomly-generated pure states of dimension dim_sys1*dim_sys2)\n",
    "        of the reduced density matrix one obtains by tracing out system 2 \"\"\"\n",
    "    \n",
    "    entropies = np.zeros(n_states)\n",
    "    \n",
    "    for i in range(n_states):\n",
    "        psi = ST.random_pure_state(dim_sys1*dim_sys2)\n",
    "        rho = ST.vec_to_dm(psi)\n",
    "        rho_reduced = ST.partial_trace(rho, dim = [dim_sys1, dim_sys2])\n",
    "        entropies[i] = ST.entropy(rho_reduced)\n",
    "    \n",
    "    return np.mean(entropies)\n",
    "\n",
    "def avg_entropy_Page(dim_sys1, dim_sys2):\n",
    "    \"\"\" returns the average entropy (calculated via Don Page's approximate formula) \n",
    "        for a pure state of dimension dim_sys1 * dim_sys2\n",
    "        \n",
    "        \"\"\"\n",
    "    \n",
    "    return (np.log(dim_sys1) - dim_sys1/(2.*dim_sys2))/np.log(2)"
   ]
  },
  {
   "cell_type": "code",
   "execution_count": 139,
   "metadata": {},
   "outputs": [],
   "source": [
    "dims_sys2 = np.arange(2, 11)\n",
    "dim_sys1 = 2\n",
    "qubit_entropies = [avg_entropy(dim_sys1, int(n), n_states = 1000) for n in dims_sys2]\n",
    "qubit_entropies_Page = [avg_entropy_Page(dim_sys1, int(n)) for n in dims_sys2]"
   ]
  },
  {
   "cell_type": "code",
   "execution_count": 140,
   "metadata": {},
   "outputs": [
    {
     "data": {
      "text/plain": [
       "<matplotlib.lines.Line2D at 0x1519851390>"
      ]
     },
     "execution_count": 140,
     "metadata": {},
     "output_type": "execute_result"
    },
    {
     "data": {
      "image/png": "[encoded data removed]",
      "text/plain": [
       "<Figure size 432x288 with 1 Axes>"
      ]
     },
     "metadata": {},
     "output_type": "display_data"
    }
   ],
   "source": [
    "plt.plot(dims_sys2, qubit_entropies, label = 'Numerical')\n",
    "plt.plot(dims_sys2, qubit_entropies_Page, label = 'Page formula')\n",
    "plt.title('Haar-random pure states entanglement entropy ({} X N)'.format(dim_sys1))\n",
    "plt.xlabel('System 2 dimension (N)')\n",
    "plt.ylabel('Von Neumann entropy')\n",
    "plt.legend(loc = 4)\n",
    "plt.axhline(np.log2(dim_sys1))"
   ]
  },
  {
   "cell_type": "markdown",
   "metadata": {},
   "source": [
    "### Two qubits: how entangled are they"
   ]
  },
  {
   "cell_type": "code",
   "execution_count": 61,
   "metadata": {},
   "outputs": [
    {
     "data": {
      "text/plain": [
       "0.48422185685387192"
      ]
     },
     "execution_count": 61,
     "metadata": {},
     "output_type": "execute_result"
    }
   ],
   "source": [
    "avg_entropy(2,2, n_states = 10000)"
   ]
  },
  {
   "cell_type": "markdown",
   "metadata": {},
   "source": [
    "Let's see what sort of density matrix would have this sort of von Neumann entropy.  i.e. what should the off-diagonal terms be"
   ]
  },
  {
   "cell_type": "code",
   "execution_count": 77,
   "metadata": {},
   "outputs": [],
   "source": [
    "sys_dim = 2\n",
    "coherence = 0.8\n",
    "dm = (np.eye(sys_dim) + coherence * np.array([[0,1],[1,0]]))/sys_dim"
   ]
  },
  {
   "cell_type": "code",
   "execution_count": 78,
   "metadata": {},
   "outputs": [
    {
     "data": {
      "text/plain": [
       "array([[ 0.5,  0.4],\n",
       "       [ 0.4,  0.5]])"
      ]
     },
     "execution_count": 78,
     "metadata": {},
     "output_type": "execute_result"
    }
   ],
   "source": [
    "dm"
   ]
  },
  {
   "cell_type": "code",
   "execution_count": 79,
   "metadata": {},
   "outputs": [
    {
     "data": {
      "text/plain": [
       "0.46899559358928156"
      ]
     },
     "execution_count": 79,
     "metadata": {},
     "output_type": "execute_result"
    }
   ],
   "source": [
    "ST.entropy(dm)"
   ]
  },
  {
   "cell_type": "markdown",
   "metadata": {},
   "source": [
    "So it looks like the generic value of the off diagonal element's magnitude is roughly 80 percent of the pure-state value"
   ]
  },
  {
   "cell_type": "markdown",
   "metadata": {},
   "source": [
    "Now let's histogram the von Neumann entropies to see their spread"
   ]
  },
  {
   "cell_type": "code",
   "execution_count": 144,
   "metadata": {},
   "outputs": [],
   "source": [
    "n_states = 100000\n",
    "dim_sys1 = 2\n",
    "dim_sys2 = 2\n",
    "\n",
    "entropies = np.zeros(n_states)\n",
    "    \n",
    "for i in range(n_states):\n",
    "    psi = ST.random_pure_state(dim_sys1*dim_sys2)\n",
    "    rho = ST.vec_to_dm(psi)\n",
    "    rho_reduced = ST.partial_trace(rho, dim = [dim_sys1, dim_sys2])\n",
    "    entropies[i] = ST.entropy(rho_reduced)"
   ]
  },
  {
   "cell_type": "code",
   "execution_count": 145,
   "metadata": {},
   "outputs": [
    {
     "data": {
      "image/png": "[encoded data removed]",
      "text/plain": [
       "<Figure size 432x288 with 1 Axes>"
      ]
     },
     "metadata": {},
     "output_type": "display_data"
    }
   ],
   "source": [
    "plt.hist(entropies, bins = 100);\n",
    "plt.xlabel('Von Neumann entropy')\n",
    "plt.ylabel('Counts')\n",
    "plt.title('Random 2-qubit pure state');"
   ]
  },
  {
   "cell_type": "code",
   "execution_count": 156,
   "metadata": {},
   "outputs": [],
   "source": [
    "qubit_2_entropy_distribution = np.histogram(entropies, bins=100, normed = True)"
   ]
  },
  {
   "cell_type": "markdown",
   "metadata": {},
   "source": [
    "So it seems like in the 2-qubit case, we expect a spread of entanglement entropies.  It almost looks like the distribution of von Neumann entorpies is close to uniform between 0 and 1.  TODO: Is there an analytic way to get this result?  \n",
    "\n"
   ]
  },
  {
   "cell_type": "markdown",
   "metadata": {},
   "source": [
    "#### Comparison with CNOT applied to random product states\n",
    "\n",
    "Continuing with the 2-qubit case, if we generate a random product state and then apply a familiar two-qubit gate like a CNOT, what does the spread of entanglement entropies look like?  I wouldn't expect it to look as entangled as the Haar-random 2-qubit unitaries above (I guess another way to state that is that a product of 2 single-qubit Haar-random unitaries combined with a single CNOT should not itself be Haar-random), but let's check."
   ]
  },
  {
   "cell_type": "code",
   "execution_count": 154,
   "metadata": {},
   "outputs": [],
   "source": [
    "n_states = 100000\n",
    "dim_sys1 = 2\n",
    "dim_sys2 = 2\n",
    "\n",
    "entropies_CNOT = np.zeros(n_states)\n",
    "    \n",
    "for i in range(n_states):\n",
    "    \n",
    "    #generate a product state\n",
    "    psi = np.kron(ST.random_pure_state(dim_sys1), ST.random_pure_state(dim_sys2))\n",
    "    psi = np.dot(ST.cnot, psi)\n",
    "    rho = ST.vec_to_dm(psi)\n",
    "    rho_reduced = ST.partial_trace(rho, dim = [dim_sys1, dim_sys2])\n",
    "    entropies_CNOT[i] = ST.entropy(rho_reduced)"
   ]
  },
  {
   "cell_type": "code",
   "execution_count": 153,
   "metadata": {},
   "outputs": [
    {
     "data": {
      "image/png": "[encoded data removed]",
      "text/plain": [
       "<Figure size 432x288 with 1 Axes>"
      ]
     },
     "metadata": {},
     "output_type": "display_data"
    }
   ],
   "source": [
    "plt.hist(entropies_CNOT, bins = 100);\n",
    "plt.xlabel('Von Neumann entropy')\n",
    "plt.ylabel('Counts')\n",
    "plt.title('CNOT applied to random 2-qubit product state');"
   ]
  },
  {
   "cell_type": "markdown",
   "metadata": {},
   "source": [
    "Interesting.  So part of my guess (that the entanglement of this ensemble would be lower than that of a Haar-random ensemble) was wrong, but another part (the fact that the distribution of entropies does not match) was right.  What about the average entropy in this case?"
   ]
  },
  {
   "cell_type": "code",
   "execution_count": 155,
   "metadata": {},
   "outputs": [
    {
     "data": {
      "text/plain": [
       "0.51893221898097963"
      ]
     },
     "execution_count": 155,
     "metadata": {},
     "output_type": "execute_result"
    }
   ],
   "source": [
    "np.mean(entropies_CNOT)"
   ]
  },
  {
   "cell_type": "markdown",
   "metadata": {},
   "source": [
    "So it looks like the average entropy of a CNOT applied to a random product state is roughly the same as the average entropy of a Haar-random 2-qubit state, though the distributions of entanglement are different."
   ]
  },
  {
   "cell_type": "markdown",
   "metadata": {},
   "source": [
    "### Qubit entangled with an N-dimensional system: von Neumann entropy distribution"
   ]
  },
  {
   "cell_type": "markdown",
   "metadata": {},
   "source": [
    "We saw above the distribution of von Neumann entropy for a pure state of two qubits.  We'd expect that entropy distribution to shift to higher and higher values as the dimension of the second system increases.  Let's see this in action. "
   ]
  },
  {
   "cell_type": "code",
   "execution_count": 182,
   "metadata": {},
   "outputs": [],
   "source": [
    "n_random_states = 10000\n",
    "dim_sys1 = 2\n",
    "dim_sys2 = 3\n",
    "\n",
    "bin_edges = np.linspace(0,1,100)\n",
    "bin_centers = (bin_edges + 0.005)[:-1]\n",
    "qubit_entropy_distribution = {}\n",
    "\n",
    "dim_sys2_array = [2,4,10]\n",
    "\n",
    "for dim_sys2 in dim_sys2_array:\n",
    "    entropies_temp = np.zeros(n_random_states)\n",
    "\n",
    "    for i in range(n_random_states):\n",
    "        psi = ST.random_pure_state(dim_sys1*dim_sys2)\n",
    "        rho = ST.vec_to_dm(psi)\n",
    "        rho_reduced = ST.partial_trace(rho, dim = [dim_sys1, dim_sys2])\n",
    "        entropies_temp[i] = ST.entropy(rho_reduced)\n",
    "        \n",
    "        qubit_entropy_distribution[dim_sys2] = np.histogram(entropies_temp, bins = bin_edges, normed = True)[0]"
   ]
  },
  {
   "cell_type": "code",
   "execution_count": 185,
   "metadata": {},
   "outputs": [
    {
     "data": {
      "text/plain": [
       "Text(0,0.5,'Counts')"
      ]
     },
     "execution_count": 185,
     "metadata": {},
     "output_type": "execute_result"
    },
    {
     "data": {
      "image/png": "[encoded data removed]",
      "text/plain": [
       "<Figure size 432x288 with 1 Axes>"
      ]
     },
     "metadata": {},
     "output_type": "display_data"
    }
   ],
   "source": [
    "for j in dim_sys2_array:\n",
    "    plt.plot(bin_centers,qubit_entropy_distribution[j], label = 'N = {}'.format(j))\n",
    "plt.legend(loc = 2)\n",
    "plt.title('Qubit entangled with N-dimensional system')\n",
    "plt.xlabel('Entanglement entropy')\n",
    "plt.ylabel('Counts')"
   ]
  },
  {
   "cell_type": "markdown",
   "metadata": {},
   "source": [
    "Interesting that it goes down at the end, i.e. the volume of space which leads to maximally mixed states is lower than that which leads to almost maximally mixed states.  I feel like there should be an easy parameterization of maximally mixed states (since they have to trace out to exactly the identity on the other system), but I can't think of one.  Maybe something like $|0\\rangle$, entangled with a random pure state on the other system, plus $|1\\rangle$, entangled with an orthogonal random pure state on the other system.  But how to ensure the other state is orthogonal?\n",
    "\n",
    "But that won't do it, you should really replace $|0\\rangle$ and $|1\\rangle$ above with a random qubit pure state and then its orthogonal state, which at least for a qubit is easy to do.  "
   ]
  },
  {
   "cell_type": "markdown",
   "metadata": {},
   "source": [
    "## Do the Gell-Mann matrices form a Unitary 1-design?"
   ]
  },
  {
   "cell_type": "markdown",
   "metadata": {},
   "source": [
    "A unitary 1-design is a probability distribution over quantum states, such that averaging over that probability distribution of $|\\psi\\rangle \\langle \\psi |$ is equivalent to an integration over the Haar measure.  \n",
    "\n",
    "See [https://en.wikipedia.org/wiki/Quantum_t-design#Unitary_Designs]"
   ]
  },
  {
   "cell_type": "markdown",
   "metadata": {},
   "source": [
    "Clearly the answer was NO, and I could've realized that without doing all this work b/c the Gell-Mann matrices aren't even unitary. Whoops"
   ]
  },
  {
   "cell_type": "code",
   "execution_count": 4,
   "metadata": {},
   "outputs": [],
   "source": [
    "dim_sys = 3 # work with qutrits"
   ]
  },
  {
   "cell_type": "code",
   "execution_count": 5,
   "metadata": {},
   "outputs": [],
   "source": [
    "def random_pure_state(dim = 2):\n",
    "    x = np.random.randn(2*dim)\n",
    "    norm_x = np.linalg.norm(x, ord = 2)\n",
    "    normalized_x = x/norm_x\n",
    "    \n",
    "    return np.matrix(normalized_x[:dim] + 1j*normalized_x[dim:]).T"
   ]
  },
  {
   "cell_type": "code",
   "execution_count": 6,
   "metadata": {},
   "outputs": [],
   "source": [
    "n_randomizations = 10000\n",
    "sys_dim = 3\n",
    "\n",
    "avg_projector = np.zeros((sys_dim,sys_dim))\n",
    "for n in np.arange(n_randomizations):\n",
    "    psi = random_pure_state(sys_dim)\n",
    "    psi_projector = psi*psi.getH()\n",
    "    \n",
    "    avg_projector = avg_projector + psi_projector\n",
    "avg_projector = avg_projector / n_randomizations"
   ]
  },
  {
   "cell_type": "code",
   "execution_count": 7,
   "metadata": {},
   "outputs": [
    {
     "data": {
      "text/plain": [
       "matrix([[ 0.33+0.j, -0.  -0.j,  0.  -0.j],\n",
       "        [-0.  +0.j,  0.34+0.j,  0.01+0.j],\n",
       "        [ 0.  +0.j,  0.01-0.j,  0.33+0.j]])"
      ]
     },
     "execution_count": 7,
     "metadata": {},
     "output_type": "execute_result"
    }
   ],
   "source": [
    "np.round(avg_projector,2)"
   ]
  },
  {
   "cell_type": "code",
   "execution_count": 8,
   "metadata": {},
   "outputs": [],
   "source": [
    "Gell_Mann_matrices = [\n",
    "np.matrix([[0,1,0],[1,0,0],[0,0,0]], dtype = 'complex'),\n",
    "np.matrix([[0,-1j,0],[1j,0,0],[0,0,0]], dtype = 'complex'),\n",
    "np.matrix([[1,0,0],[0,-1,0],[0,0,0]], dtype = 'complex'),\n",
    "np.matrix([[0,0,1],[0,0,0],[1,0,0,]], dtype = 'complex'),\n",
    "np.matrix([[0,0,-1j],[0,0,0],[1j,0,0]], dtype = 'complex'),\n",
    "np.matrix([[0,0,0],[0,0,1],[0,1,0]], dtype = 'complex'),\n",
    "np.matrix([[0,0,0],[0,0,-1j],[0,1j,0]], dtype = 'complex'),\n",
    "np.sqrt(1./3)*np.matrix(np.diag([1,1,-2]), dtype = 'complex'),\n",
    "np.matrix(np.eye(3))\n",
    "]"
   ]
  },
  {
   "cell_type": "code",
   "execution_count": 11,
   "metadata": {},
   "outputs": [],
   "source": [
    "psi = random_pure_state(dim = 3)\n",
    "\n",
    "avg_projector = np.zeros((sys_dim,sys_dim))\n",
    "for mat in Qutrit_ops:\n",
    "    matpsi = mat*psi\n",
    "    matpsi_projector = matpsi*matpsi.getH()\n",
    "    \n",
    "    avg_projector = avg_projector + matpsi_projector\n",
    "avg_projector = avg_projector / len(Gell_Mann_matrices)"
   ]
  },
  {
   "cell_type": "code",
   "execution_count": 12,
   "metadata": {},
   "outputs": [
    {
     "data": {
      "text/plain": [
       "matrix([[ 0.33+0.j, -0.  +0.j, -0.  -0.j],\n",
       "        [-0.  -0.j,  0.33+0.j, -0.  +0.j],\n",
       "        [-0.  +0.j, -0.  -0.j,  0.33+0.j]])"
      ]
     },
     "execution_count": 12,
     "metadata": {},
     "output_type": "execute_result"
    }
   ],
   "source": [
    "np.round(avg_projector,2)"
   ]
  },
  {
   "cell_type": "code",
   "execution_count": 13,
   "metadata": {},
   "outputs": [
    {
     "data": {
      "text/plain": [
       "9"
      ]
     },
     "execution_count": 13,
     "metadata": {},
     "output_type": "execute_result"
    }
   ],
   "source": [
    "len(Gell_Mann_matrices)"
   ]
  },
  {
   "cell_type": "code",
   "execution_count": 10,
   "metadata": {},
   "outputs": [],
   "source": [
    "omega = np.exp(2*np.pi*1j/3)\n",
    "\n",
    "X = np.matrix([[0,0,1],[1,0,0],[0,1,0]])\n",
    "Z = np.matrix(np.diag([1, omega, omega*omega]))\n",
    "Y = X*Z\n",
    "V = X*Z*Z\n",
    "\n",
    "Qutrit_ops = [\n",
    "    np.matrix(np.eye(3), dtype = 'complex'),\n",
    "    Z, \n",
    "    X, \n",
    "    Y, \n",
    "    V, \n",
    "    Z*Z,\n",
    "    X*X,\n",
    "    Y*Y,\n",
    "    V*V,\n",
    "]"
   ]
  },
  {
   "cell_type": "code",
   "execution_count": 16,
   "metadata": {},
   "outputs": [],
   "source": [
    "verbose = False\n",
    "\n",
    "U_scramble = np.matrix([[1,0,0,0,0,0,0,0,0],\n",
    "                        [0,0,0,0,0,0,0,0,1],\n",
    "                        [0,0,0,0,1,0,0,0,0],\n",
    "                        [0,0,0,0,0,1,0,0,0],\n",
    "                        [0,1,0,0,0,0,0,0,0],\n",
    "                        [0,0,0,0,0,0,1,0,0],\n",
    "                        [0,0,0,0,0,0,0,1,0],\n",
    "                        [0,0,0,1,0,0,0,0,0],\n",
    "                        [0,0,1,0,0,0,0,0,0],\n",
    "                       ])\n",
    "\n",
    "total_trace = 0\n",
    "\n",
    "n_ops = 0\n",
    "for vind, V in enumerate(Qutrit_ops):\n",
    "    for wind, W in enumerate(Qutrit_ops):\n",
    "        V2 = np.matrix(np.kron(V,np.eye(3)))\n",
    "        W2 = np.matrix(np.kron(np.eye(3), W))\n",
    "        \n",
    "        indiv_trace = np.trace((V2.getH() * (U_scramble * W2* U_scramble.getH()).getH() * V2 * (U_scramble * W2 * U_scramble.getH()))/9.) \n",
    "        if verbose:\n",
    "            print(vind, wind, indiv_trace)\n",
    "        total_trace += indiv_trace\n",
    "        \n",
    "        n_ops += 1\n",
    "        \n",
    "total_trace = total_trace / n_ops"
   ]
  },
  {
   "cell_type": "code",
   "execution_count": 34,
   "metadata": {},
   "outputs": [
    {
     "data": {
      "text/plain": [
       "(1+1.827527612551687e-18j)"
      ]
     },
     "execution_count": 34,
     "metadata": {},
     "output_type": "execute_result"
    }
   ],
   "source": [
    "reload(ST)\n",
    "ST.OTOC(np.matrix(np.eye(9)), Qutrit_ops)"
   ]
  },
  {
   "cell_type": "code",
   "execution_count": 19,
   "metadata": {},
   "outputs": [],
   "source": [
    "def permutation_matrix(permutation):\n",
    "    \"\"\" Given a permutation, generates a permutation matrix from that permutation\"\"\"\n",
    "    \n",
    "    permutation = np.array(permutation)\n",
    "    \n",
    "    n_elem = len(permutation)\n",
    "    \n",
    "    # verify that the permutation contains elements from 0 to len(permutation) - 1, inclusive\n",
    "    assert np.all(sorted(permutation) - np.arange(n_elem) == np.zeros(len(permutation)))\n",
    "    \n",
    "    matrix_to_return = np.zeros((n_elem, n_elem))\n",
    "    \n",
    "    for ind, elem in enumerate(permutation):\n",
    "        matrix_to_return[elem, ind] = 1\n",
    "        \n",
    "    return np.matrix(matrix_to_return)"
   ]
  },
  {
   "cell_type": "code",
   "execution_count": null,
   "metadata": {},
   "outputs": [],
   "source": [
    "def Hadamard_to_identity(alpha):\n",
    "    \"\"\" returns a single-qutrit unitary matrix which\n",
    "    smoothly interpolates between the Hadamard gate and the identity gate\n",
    "    When alpha is unity, it is the Hadamard\n",
    "    When alpha is zero, it is the identity\n",
    "    \"\"\"\n",
    "    \n",
    "    U1 = \n",
    "    \n",
    "    ['EFY-90'],\n",
    "    ['X90'],\n",
    "    ['Z-109.471'],\n",
    "    ['EFZ54.7355'],\n",
    "    ['X-90'],\n",
    "    ['Z180'],\n",
    "    ['EFZ-90'],\n",
    "    ['EFY90'],\n",
    "    "
   ]
  }
 ],
 "metadata": {
  "kernelspec": {
   "display_name": "Python 3",
   "language": "python",
   "name": "python3"
  },
  "language_info": {
   "codemirror_mode": {
    "name": "ipython",
    "version": 3
   },
   "file_extension": ".py",
   "mimetype": "text/x-python",
   "name": "python",
   "nbconvert_exporter": "python",
   "pygments_lexer": "ipython3",
   "version": "3.6.4"
  }
 },
 "nbformat": 4,
 "nbformat_minor": 2
}
