{
 "cells": [
  {
   "cell_type": "code",
   "execution_count": 1,
   "metadata": {},
   "outputs": [
    {
     "name": "stderr",
     "output_type": "stream",
     "text": [
      "/anaconda3/lib/python3.6/site-packages/h5py/__init__.py:36: FutureWarning: Conversion of the second argument of issubdtype from `float` to `np.floating` is deprecated. In future, it will be treated as `np.float64 == np.dtype(float).type`.\n",
      "  from ._conv import register_converters as _register_converters\n"
     ]
    }
   ],
   "source": [
    "import numpy as np\n",
    "import matplotlib.pyplot as plt\n",
    "%matplotlib inline\n",
    "\n",
    "from qnl_analysis import SimTools as ST\n",
    "from qnl_analysis.SimTools import bit_to_trit, rot_x, rot_y, trit_z\n",
    "from qnl_projects.BHDecoder import qutrit_utils as qutils\n",
    "\n",
    "from importlib import reload\n",
    "from functools import reduce"
   ]
  },
  {
   "cell_type": "code",
   "execution_count": 2,
   "metadata": {},
   "outputs": [],
   "source": [
    "def Hadamard_to_identity(alpha):\n",
    "    \"\"\" returns a single-qutrit unitary matrix which\n",
    "    smoothly interpolates between the Hadamard gate and the identity gate\n",
    "    When alpha is unity, it is the Hadamard\n",
    "    When alpha is zero, it is the identity\n",
    "    \"\"\"\n",
    "    \n",
    "    Hadamard_pulse_sequence = [['EFY-90'],\n",
    "    ['X90'],\n",
    "    ['Z{:.5f}'.format(-109.471*alpha)],\n",
    "    ['EFZ{:.5f}'.format(54.7355*alpha)],\n",
    "    ['X-90'],\n",
    "    ['Z{:.5f}'.format(180*alpha)],\n",
    "    ['EFZ{:.5f}'.format(-90*alpha)],\n",
    "    ['EFY90']]\n",
    "    \n",
    "    return qutils.resulting_unitary(Hadamard_pulse_sequence)\n",
    "\n",
    "def HadamardStar_to_identity(alpha):\n",
    "    \"\"\" returns a single-qutrit unitary matrix which\n",
    "    smoothly interpolates between the Hadamard gate and the identity gate\n",
    "    When alpha is unity, it is the Hadamard\n",
    "    When alpha is zero, it is the identity\n",
    "    \"\"\"\n",
    "    \n",
    "    Hadamard_pulse_sequence = [['EFY-90'],\n",
    "    ['X-90'],\n",
    "    ['Z{:.5f}'.format(109.471*alpha)],\n",
    "    ['EFZ{:.5f}'.format(-54.7355*alpha)],\n",
    "    ['X90'],\n",
    "    ['Z{:.5f}'.format(-180*alpha)],\n",
    "    ['EFZ{:.5f}'.format(90*alpha)],\n",
    "    ['EFY90']]\n",
    "    \n",
    "    return qutils.resulting_unitary(Hadamard_pulse_sequence)\n",
    "\n",
    "def Scrambler_to_identity(alpha):\n",
    "    \n",
    "    alpha_Had = Hadamard_to_identity(alpha)\n",
    "    alpha_Had_dag = np.conj(alpha_Had).T\n",
    "    \n",
    "    alpha_Had_2q = np.kron(alpha_Had, alpha_Had)\n",
    "    alpha_Had_dag_2q = np.kron(alpha_Had_dag, alpha_Had_dag)\n",
    "\n",
    "    gates = [alpha_Had_dag_2q, ST.qt_cmin_p1, alpha_Had_2q, ST.qt_csum_p1]\n",
    "    \n",
    "    return reduce(np.dot, gates)"
   ]
  },
  {
   "cell_type": "code",
   "execution_count": 3,
   "metadata": {},
   "outputs": [],
   "source": [
    "omega = np.exp(2*np.pi*1j/3)\n",
    "\n",
    "X = np.matrix([[0,0,1],[1,0,0],[0,1,0]])\n",
    "Z = np.matrix(np.diag([1, omega, omega*omega]))\n",
    "Y = X*Z\n",
    "V = X*Z*Z\n",
    "\n",
    "Qutrit_ops = [\n",
    "    np.matrix(np.eye(3), dtype = 'complex'),\n",
    "    Z, \n",
    "    X, \n",
    "    Y, \n",
    "    V, \n",
    "    Z*Z,\n",
    "    X*X,\n",
    "    Y*Y,\n",
    "    V*V,\n",
    "]"
   ]
  },
  {
   "cell_type": "code",
   "execution_count": 4,
   "metadata": {},
   "outputs": [],
   "source": [
    "alpha_range = np.linspace(0,1,50)\n",
    "unitaries = [Scrambler_to_identity(alpha) for alpha in alpha_range]\n",
    "OTOCs = np.array([np.real(ST.OTOC(Scrambler_to_identity(alpha), Qutrit_ops)) for alpha in alpha_range])"
   ]
  },
  {
   "cell_type": "code",
   "execution_count": 5,
   "metadata": {},
   "outputs": [
    {
     "data": {
      "text/plain": [
       "Text(0,0.5,'OTOC')"
      ]
     },
     "execution_count": 5,
     "metadata": {},
     "output_type": "execute_result"
    },
    {
     "data": {
      "image/png": "[encoded data removed]",
      "text/plain": [
       "<Figure size 432x288 with 1 Axes>"
      ]
     },
     "metadata": {},
     "output_type": "display_data"
    }
   ],
   "source": [
    "plt.plot(alpha_range, OTOCs)\n",
    "plt.ylim(0,1.1)\n",
    "plt.xlabel('Alpha value')\n",
    "plt.ylabel('OTOC')"
   ]
  },
  {
   "cell_type": "markdown",
   "metadata": {},
   "source": [
    "### Scrambler without the Hadamards at the beginning and end"
   ]
  },
  {
   "cell_type": "markdown",
   "metadata": {},
   "source": [
    "Currently, the scrambler we're planning to use is the permutation.  But we can get away without doing the Hadamards on the beginning and end of the scrambler, just to win about five percent in total algorithm fidelity.  Here we confirm that doing this will still allow the algorithm to work.  "
   ]
  },
  {
   "cell_type": "code",
   "execution_count": 21,
   "metadata": {},
   "outputs": [],
   "source": [
    "CSUM_phases = np.diag([1,1,1,1,np.exp(1j*4*np.pi/3), np.exp(1j*2*np.pi/3), 1, np.exp(1j*2*np.pi/3), np.exp(1j*4*np.pi/3)])"
   ]
  },
  {
   "cell_type": "code",
   "execution_count": 60,
   "metadata": {},
   "outputs": [
    {
     "data": {
      "image/png": "[encoded data removed]",
      "text/plain": [
       "<Figure size 576x576 with 1 Axes>"
      ]
     },
     "metadata": {},
     "output_type": "display_data"
    }
   ],
   "source": [
    "H0 = np.kron(np.eye(3), Hadamard_to_identity(1))\n",
    "Hdag0 = np.conj(H0.T)\n",
    "\n",
    "H1 = np.kron(Hadamard_to_identity(1), np.eye(3))\n",
    "Hdag1 = np.conj(H1.T)\n",
    "\n",
    "ST.plot_dm(reduce(np.dot, [H1, CSUM_phases, Hdag1, H0, H1, Hdag1, CSUM_phases, H1,Hdag1,Hdag0]));"
   ]
  },
  {
   "cell_type": "code",
   "execution_count": 87,
   "metadata": {},
   "outputs": [],
   "source": [
    "def OtherScrambler_to_identity(alpha):\n",
    "    CSUM_phases = np.diag([1,1,1,1,np.exp(1j*4*np.pi/3), np.exp(1j*2*np.pi/3), 1, np.exp(1j*2*np.pi/3), np.exp(1j*4*np.pi/3)])\n",
    "    \n",
    "    H0 = np.kron(np.eye(3), Hadamard_to_identity(1))\n",
    "    Hdag0 = np.conj(H0.T)\n",
    "\n",
    "    H1 = np.kron(Hadamard_to_identity(1), np.eye(3))\n",
    "    Hdag1 = np.conj(H1.T)\n",
    "    \n",
    "    H0alpha = np.kron(np.eye(3), Hadamard_to_identity(alpha))\n",
    "    Hdag0alpha = np.conj(H0.T)\n",
    "\n",
    "    H1alpha = np.kron(Hadamard_to_identity(alpha), np.eye(3))\n",
    "    Hdag1alpha = np.conj(H1.T)\n",
    "\n",
    "    return np.matrix(reduce(np.dot, [CSUM_phases, Hdag1, H0alpha, H1alpha, Hdag1, CSUM_phases]))"
   ]
  },
  {
   "cell_type": "code",
   "execution_count": 88,
   "metadata": {},
   "outputs": [],
   "source": [
    "alpha_range = np.linspace(0,1,50)\n",
    "unitaries = [OtherScrambler_to_identity(alpha) for alpha in alpha_range]\n",
    "OTOCs = np.array([np.real(ST.OTOC(OtherScrambler_to_identity(alpha), Qutrit_ops)) for alpha in alpha_range])"
   ]
  },
  {
   "cell_type": "code",
   "execution_count": 89,
   "metadata": {},
   "outputs": [
    {
     "data": {
      "text/plain": [
       "<matplotlib.lines.Line2D at 0x12173ef28>"
      ]
     },
     "execution_count": 89,
     "metadata": {},
     "output_type": "execute_result"
    },
    {
     "data": {
      "image/png": "[encoded data removed]",
      "text/plain": [
       "<Figure size 432x288 with 1 Axes>"
      ]
     },
     "metadata": {},
     "output_type": "display_data"
    }
   ],
   "source": [
    "plt.plot(alpha_range, OTOCs)\n",
    "plt.ylim(0,1.1)\n",
    "plt.xlabel('Alpha value')\n",
    "plt.ylabel('OTOC')\n",
    "plt.axhline(1./9, ls = '--')"
   ]
  },
  {
   "cell_type": "code",
   "execution_count": 90,
   "metadata": {},
   "outputs": [],
   "source": [
    "Hdag1q = np.conj(Hadamard_to_identity(1).T)"
   ]
  },
  {
   "cell_type": "code",
   "execution_count": 91,
   "metadata": {},
   "outputs": [
    {
     "data": {
      "text/plain": [
       "array([[ 1.+0.j,  0.-0.j, -0.-0.j],\n",
       "       [-0.-0.j,  0.+0.j,  1.+0.j],\n",
       "       [ 0.-0.j,  1.+0.j, -0.+0.j]])"
      ]
     },
     "execution_count": 91,
     "metadata": {},
     "output_type": "execute_result"
    }
   ],
   "source": [
    "np.round(reduce(np.dot, [Hdag1q, Hdag1q]),5)"
   ]
  },
  {
   "cell_type": "code",
   "execution_count": null,
   "metadata": {},
   "outputs": [],
   "source": []
  }
 ],
 "metadata": {
  "kernelspec": {
   "display_name": "Python 3",
   "language": "python",
   "name": "python3"
  },
  "language_info": {
   "codemirror_mode": {
    "name": "ipython",
    "version": 3
   },
   "file_extension": ".py",
   "mimetype": "text/x-python",
   "name": "python",
   "nbconvert_exporter": "python",
   "pygments_lexer": "ipython3",
   "version": "3.6.4"
  }
 },
 "nbformat": 4,
 "nbformat_minor": 2
}
